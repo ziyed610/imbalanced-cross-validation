{
 "cells": [
  {
   "cell_type": "code",
   "execution_count": 1,
   "id": "94f1ba87",
   "metadata": {},
   "outputs": [],
   "source": [
    "import pandas as pd\n",
    "import numpy as np\n",
    "import seaborn as sns\n",
    "import matplotlib.pyplot as plt\n",
    "from imblearn.combine import SMOTETomek\n",
    "from imblearn.under_sampling import NearMiss\n",
    "from imblearn.over_sampling import RandomOverSampler\n",
    "from sklearn.model_selection import train_test_split\n",
    "from sklearn.tree import DecisionTreeClassifier\n",
    "from xgboost import XGBClassifier\n",
    "from sklearn.ensemble import AdaBoostClassifier\n",
    "from sklearn.model_selection import KFold, cross_val_score, cross_validate\n",
    "from sklearn.model_selection import StratifiedKFold\n",
    "from sklearn.model_selection import LeaveOneOut"
   ]
  },
  {
   "cell_type": "code",
   "execution_count": 2,
   "id": "6e88a395",
   "metadata": {},
   "outputs": [],
   "source": [
    "df = pd.read_csv('Phishing Data.csv')"
   ]
  },
  {
   "cell_type": "code",
   "execution_count": 3,
   "id": "a09bfe91",
   "metadata": {},
   "outputs": [],
   "source": [
    "df2 = df.copy()"
   ]
  },
  {
   "cell_type": "code",
   "execution_count": 4,
   "id": "802770a1",
   "metadata": {},
   "outputs": [
    {
     "data": {
      "text/html": [
       "<div>\n",
       "<style scoped>\n",
       "    .dataframe tbody tr th:only-of-type {\n",
       "        vertical-align: middle;\n",
       "    }\n",
       "\n",
       "    .dataframe tbody tr th {\n",
       "        vertical-align: top;\n",
       "    }\n",
       "\n",
       "    .dataframe thead th {\n",
       "        text-align: right;\n",
       "    }\n",
       "</style>\n",
       "<table border=\"1\" class=\"dataframe\">\n",
       "  <thead>\n",
       "    <tr style=\"text-align: right;\">\n",
       "      <th></th>\n",
       "      <th>Total Number of Characters C</th>\n",
       "      <th>Vocabulary richness W/C</th>\n",
       "      <th>Account</th>\n",
       "      <th>Access</th>\n",
       "      <th>Bank</th>\n",
       "      <th>Credit</th>\n",
       "      <th>Click</th>\n",
       "      <th>Identity</th>\n",
       "      <th>Inconvenience</th>\n",
       "      <th>Information</th>\n",
       "      <th>...</th>\n",
       "      <th>Password</th>\n",
       "      <th>Recently</th>\n",
       "      <th>Risk</th>\n",
       "      <th>Social</th>\n",
       "      <th>Security</th>\n",
       "      <th>Service</th>\n",
       "      <th>Suspended</th>\n",
       "      <th>Total number of Function words/W</th>\n",
       "      <th>Unique Words</th>\n",
       "      <th>Phishing Status</th>\n",
       "    </tr>\n",
       "  </thead>\n",
       "  <tbody>\n",
       "    <tr>\n",
       "      <th>0</th>\n",
       "      <td>1673</td>\n",
       "      <td>0.128512</td>\n",
       "      <td>2</td>\n",
       "      <td>0</td>\n",
       "      <td>0</td>\n",
       "      <td>0</td>\n",
       "      <td>1</td>\n",
       "      <td>0</td>\n",
       "      <td>0</td>\n",
       "      <td>1</td>\n",
       "      <td>...</td>\n",
       "      <td>1</td>\n",
       "      <td>1</td>\n",
       "      <td>0</td>\n",
       "      <td>0</td>\n",
       "      <td>0</td>\n",
       "      <td>0</td>\n",
       "      <td>0</td>\n",
       "      <td>0.027907</td>\n",
       "      <td>132</td>\n",
       "      <td>1</td>\n",
       "    </tr>\n",
       "    <tr>\n",
       "      <th>1</th>\n",
       "      <td>4465</td>\n",
       "      <td>0.137738</td>\n",
       "      <td>0</td>\n",
       "      <td>0</td>\n",
       "      <td>0</td>\n",
       "      <td>0</td>\n",
       "      <td>0</td>\n",
       "      <td>0</td>\n",
       "      <td>0</td>\n",
       "      <td>4</td>\n",
       "      <td>...</td>\n",
       "      <td>0</td>\n",
       "      <td>0</td>\n",
       "      <td>0</td>\n",
       "      <td>0</td>\n",
       "      <td>3</td>\n",
       "      <td>1</td>\n",
       "      <td>0</td>\n",
       "      <td>0.013008</td>\n",
       "      <td>338</td>\n",
       "      <td>1</td>\n",
       "    </tr>\n",
       "    <tr>\n",
       "      <th>2</th>\n",
       "      <td>6813</td>\n",
       "      <td>0.095993</td>\n",
       "      <td>0</td>\n",
       "      <td>0</td>\n",
       "      <td>0</td>\n",
       "      <td>2</td>\n",
       "      <td>0</td>\n",
       "      <td>0</td>\n",
       "      <td>0</td>\n",
       "      <td>2</td>\n",
       "      <td>...</td>\n",
       "      <td>0</td>\n",
       "      <td>0</td>\n",
       "      <td>0</td>\n",
       "      <td>0</td>\n",
       "      <td>0</td>\n",
       "      <td>0</td>\n",
       "      <td>0</td>\n",
       "      <td>0.006116</td>\n",
       "      <td>292</td>\n",
       "      <td>1</td>\n",
       "    </tr>\n",
       "    <tr>\n",
       "      <th>3</th>\n",
       "      <td>1518</td>\n",
       "      <td>0.109354</td>\n",
       "      <td>0</td>\n",
       "      <td>0</td>\n",
       "      <td>0</td>\n",
       "      <td>1</td>\n",
       "      <td>1</td>\n",
       "      <td>0</td>\n",
       "      <td>0</td>\n",
       "      <td>0</td>\n",
       "      <td>...</td>\n",
       "      <td>0</td>\n",
       "      <td>0</td>\n",
       "      <td>0</td>\n",
       "      <td>0</td>\n",
       "      <td>0</td>\n",
       "      <td>0</td>\n",
       "      <td>0</td>\n",
       "      <td>0.012048</td>\n",
       "      <td>102</td>\n",
       "      <td>1</td>\n",
       "    </tr>\n",
       "    <tr>\n",
       "      <th>4</th>\n",
       "      <td>1881</td>\n",
       "      <td>0.126528</td>\n",
       "      <td>7</td>\n",
       "      <td>3</td>\n",
       "      <td>0</td>\n",
       "      <td>0</td>\n",
       "      <td>0</td>\n",
       "      <td>1</td>\n",
       "      <td>0</td>\n",
       "      <td>2</td>\n",
       "      <td>...</td>\n",
       "      <td>0</td>\n",
       "      <td>0</td>\n",
       "      <td>0</td>\n",
       "      <td>0</td>\n",
       "      <td>0</td>\n",
       "      <td>0</td>\n",
       "      <td>2</td>\n",
       "      <td>0.063025</td>\n",
       "      <td>136</td>\n",
       "      <td>1</td>\n",
       "    </tr>\n",
       "  </tbody>\n",
       "</table>\n",
       "<p>5 rows × 22 columns</p>\n",
       "</div>"
      ],
      "text/plain": [
       "   Total Number of Characters C  Vocabulary richness W/C  Account  Access  \\\n",
       "0                          1673                 0.128512        2       0   \n",
       "1                          4465                 0.137738        0       0   \n",
       "2                          6813                 0.095993        0       0   \n",
       "3                          1518                 0.109354        0       0   \n",
       "4                          1881                 0.126528        7       3   \n",
       "\n",
       "   Bank  Credit  Click  Identity  Inconvenience  Information  ...  Password  \\\n",
       "0     0       0      1         0              0            1  ...         1   \n",
       "1     0       0      0         0              0            4  ...         0   \n",
       "2     0       2      0         0              0            2  ...         0   \n",
       "3     0       1      1         0              0            0  ...         0   \n",
       "4     0       0      0         1              0            2  ...         0   \n",
       "\n",
       "   Recently  Risk  Social  Security  Service  Suspended  \\\n",
       "0         1     0       0         0        0          0   \n",
       "1         0     0       0         3        1          0   \n",
       "2         0     0       0         0        0          0   \n",
       "3         0     0       0         0        0          0   \n",
       "4         0     0       0         0        0          2   \n",
       "\n",
       "   Total number of Function words/W  Unique Words  Phishing Status  \n",
       "0                          0.027907           132                1  \n",
       "1                          0.013008           338                1  \n",
       "2                          0.006116           292                1  \n",
       "3                          0.012048           102                1  \n",
       "4                          0.063025           136                1  \n",
       "\n",
       "[5 rows x 22 columns]"
      ]
     },
     "execution_count": 4,
     "metadata": {},
     "output_type": "execute_result"
    }
   ],
   "source": [
    "df.head()"
   ]
  },
  {
   "cell_type": "code",
   "execution_count": 5,
   "id": "b4775487",
   "metadata": {},
   "outputs": [
    {
     "data": {
      "text/plain": [
       "(525754, 22)"
      ]
     },
     "execution_count": 5,
     "metadata": {},
     "output_type": "execute_result"
    }
   ],
   "source": [
    "df.shape"
   ]
  },
  {
   "cell_type": "code",
   "execution_count": 6,
   "id": "287ad654",
   "metadata": {},
   "outputs": [
    {
     "data": {
      "text/plain": [
       "Total Number of Characters C        0\n",
       "Vocabulary richness W/C             0\n",
       "Account                             0\n",
       "Access                              0\n",
       "Bank                                0\n",
       "Credit                              0\n",
       "Click                               0\n",
       "Identity                            0\n",
       "Inconvenience                       0\n",
       "Information                         0\n",
       "Limited                             0\n",
       "Minutes                             0\n",
       "Password                            0\n",
       "Recently                            0\n",
       "Risk                                0\n",
       "Social                              0\n",
       "Security                            0\n",
       "Service                             0\n",
       "Suspended                           0\n",
       "Total number of Function words/W    0\n",
       "Unique Words                        0\n",
       "Phishing Status                     0\n",
       "dtype: int64"
      ]
     },
     "execution_count": 6,
     "metadata": {},
     "output_type": "execute_result"
    }
   ],
   "source": [
    "df.isnull().sum()"
   ]
  },
  {
   "cell_type": "code",
   "execution_count": 7,
   "id": "6c922e9b",
   "metadata": {},
   "outputs": [
    {
     "data": {
      "text/plain": [
       "0    517402\n",
       "1      8352\n",
       "Name: Phishing Status, dtype: int64"
      ]
     },
     "execution_count": 7,
     "metadata": {},
     "output_type": "execute_result"
    }
   ],
   "source": [
    "df['Phishing Status'].value_counts()"
   ]
  },
  {
   "cell_type": "code",
   "execution_count": 8,
   "id": "f041e691",
   "metadata": {},
   "outputs": [
    {
     "data": {
      "text/html": [
       "<div>\n",
       "<style scoped>\n",
       "    .dataframe tbody tr th:only-of-type {\n",
       "        vertical-align: middle;\n",
       "    }\n",
       "\n",
       "    .dataframe tbody tr th {\n",
       "        vertical-align: top;\n",
       "    }\n",
       "\n",
       "    .dataframe thead th {\n",
       "        text-align: right;\n",
       "    }\n",
       "</style>\n",
       "<table border=\"1\" class=\"dataframe\">\n",
       "  <thead>\n",
       "    <tr style=\"text-align: right;\">\n",
       "      <th></th>\n",
       "      <th>Total Number of Characters C</th>\n",
       "      <th>Vocabulary richness W/C</th>\n",
       "      <th>Account</th>\n",
       "      <th>Access</th>\n",
       "      <th>Bank</th>\n",
       "      <th>Credit</th>\n",
       "      <th>Click</th>\n",
       "      <th>Identity</th>\n",
       "      <th>Inconvenience</th>\n",
       "      <th>Information</th>\n",
       "      <th>...</th>\n",
       "      <th>Password</th>\n",
       "      <th>Recently</th>\n",
       "      <th>Risk</th>\n",
       "      <th>Social</th>\n",
       "      <th>Security</th>\n",
       "      <th>Service</th>\n",
       "      <th>Suspended</th>\n",
       "      <th>Total number of Function words/W</th>\n",
       "      <th>Unique Words</th>\n",
       "      <th>Phishing Status</th>\n",
       "    </tr>\n",
       "  </thead>\n",
       "  <tbody>\n",
       "    <tr>\n",
       "      <th>count</th>\n",
       "      <td>5.257540e+05</td>\n",
       "      <td>525754.000000</td>\n",
       "      <td>525754.000000</td>\n",
       "      <td>525754.000000</td>\n",
       "      <td>525754.000000</td>\n",
       "      <td>525754.000000</td>\n",
       "      <td>525754.000000</td>\n",
       "      <td>525754.000000</td>\n",
       "      <td>525754.000000</td>\n",
       "      <td>525754.000000</td>\n",
       "      <td>...</td>\n",
       "      <td>525754.000000</td>\n",
       "      <td>525754.000000</td>\n",
       "      <td>525754.00000</td>\n",
       "      <td>525754.000000</td>\n",
       "      <td>525754.000000</td>\n",
       "      <td>525754.000000</td>\n",
       "      <td>525754.000000</td>\n",
       "      <td>525754.000000</td>\n",
       "      <td>525754.000000</td>\n",
       "      <td>525754.000000</td>\n",
       "    </tr>\n",
       "    <tr>\n",
       "      <th>mean</th>\n",
       "      <td>2.276502e+03</td>\n",
       "      <td>0.120999</td>\n",
       "      <td>0.088178</td>\n",
       "      <td>0.126308</td>\n",
       "      <td>0.050759</td>\n",
       "      <td>0.155843</td>\n",
       "      <td>0.121635</td>\n",
       "      <td>0.003815</td>\n",
       "      <td>0.003167</td>\n",
       "      <td>0.289873</td>\n",
       "      <td>...</td>\n",
       "      <td>0.023981</td>\n",
       "      <td>0.034453</td>\n",
       "      <td>0.11234</td>\n",
       "      <td>0.007874</td>\n",
       "      <td>0.048199</td>\n",
       "      <td>0.131139</td>\n",
       "      <td>0.004991</td>\n",
       "      <td>0.003818</td>\n",
       "      <td>153.298839</td>\n",
       "      <td>0.015886</td>\n",
       "    </tr>\n",
       "    <tr>\n",
       "      <th>std</th>\n",
       "      <td>7.593063e+03</td>\n",
       "      <td>0.024149</td>\n",
       "      <td>0.636271</td>\n",
       "      <td>0.734079</td>\n",
       "      <td>0.559868</td>\n",
       "      <td>1.253096</td>\n",
       "      <td>0.687737</td>\n",
       "      <td>0.086242</td>\n",
       "      <td>0.059889</td>\n",
       "      <td>1.215314</td>\n",
       "      <td>...</td>\n",
       "      <td>0.287013</td>\n",
       "      <td>0.314402</td>\n",
       "      <td>0.77089</td>\n",
       "      <td>0.231209</td>\n",
       "      <td>0.456293</td>\n",
       "      <td>0.823307</td>\n",
       "      <td>0.088576</td>\n",
       "      <td>0.007944</td>\n",
       "      <td>200.706245</td>\n",
       "      <td>0.125034</td>\n",
       "    </tr>\n",
       "    <tr>\n",
       "      <th>min</th>\n",
       "      <td>1.100000e+01</td>\n",
       "      <td>0.013260</td>\n",
       "      <td>0.000000</td>\n",
       "      <td>0.000000</td>\n",
       "      <td>0.000000</td>\n",
       "      <td>0.000000</td>\n",
       "      <td>0.000000</td>\n",
       "      <td>0.000000</td>\n",
       "      <td>0.000000</td>\n",
       "      <td>0.000000</td>\n",
       "      <td>...</td>\n",
       "      <td>0.000000</td>\n",
       "      <td>0.000000</td>\n",
       "      <td>0.00000</td>\n",
       "      <td>0.000000</td>\n",
       "      <td>0.000000</td>\n",
       "      <td>0.000000</td>\n",
       "      <td>0.000000</td>\n",
       "      <td>0.000000</td>\n",
       "      <td>2.000000</td>\n",
       "      <td>0.000000</td>\n",
       "    </tr>\n",
       "    <tr>\n",
       "      <th>25%</th>\n",
       "      <td>7.900000e+02</td>\n",
       "      <td>0.104895</td>\n",
       "      <td>0.000000</td>\n",
       "      <td>0.000000</td>\n",
       "      <td>0.000000</td>\n",
       "      <td>0.000000</td>\n",
       "      <td>0.000000</td>\n",
       "      <td>0.000000</td>\n",
       "      <td>0.000000</td>\n",
       "      <td>0.000000</td>\n",
       "      <td>...</td>\n",
       "      <td>0.000000</td>\n",
       "      <td>0.000000</td>\n",
       "      <td>0.00000</td>\n",
       "      <td>0.000000</td>\n",
       "      <td>0.000000</td>\n",
       "      <td>0.000000</td>\n",
       "      <td>0.000000</td>\n",
       "      <td>0.000000</td>\n",
       "      <td>71.000000</td>\n",
       "      <td>0.000000</td>\n",
       "    </tr>\n",
       "    <tr>\n",
       "      <th>50%</th>\n",
       "      <td>1.297000e+03</td>\n",
       "      <td>0.121898</td>\n",
       "      <td>0.000000</td>\n",
       "      <td>0.000000</td>\n",
       "      <td>0.000000</td>\n",
       "      <td>0.000000</td>\n",
       "      <td>0.000000</td>\n",
       "      <td>0.000000</td>\n",
       "      <td>0.000000</td>\n",
       "      <td>0.000000</td>\n",
       "      <td>...</td>\n",
       "      <td>0.000000</td>\n",
       "      <td>0.000000</td>\n",
       "      <td>0.00000</td>\n",
       "      <td>0.000000</td>\n",
       "      <td>0.000000</td>\n",
       "      <td>0.000000</td>\n",
       "      <td>0.000000</td>\n",
       "      <td>0.000000</td>\n",
       "      <td>106.000000</td>\n",
       "      <td>0.000000</td>\n",
       "    </tr>\n",
       "    <tr>\n",
       "      <th>75%</th>\n",
       "      <td>2.248000e+03</td>\n",
       "      <td>0.138456</td>\n",
       "      <td>0.000000</td>\n",
       "      <td>0.000000</td>\n",
       "      <td>0.000000</td>\n",
       "      <td>0.000000</td>\n",
       "      <td>0.000000</td>\n",
       "      <td>0.000000</td>\n",
       "      <td>0.000000</td>\n",
       "      <td>0.000000</td>\n",
       "      <td>...</td>\n",
       "      <td>0.000000</td>\n",
       "      <td>0.000000</td>\n",
       "      <td>0.00000</td>\n",
       "      <td>0.000000</td>\n",
       "      <td>0.000000</td>\n",
       "      <td>0.000000</td>\n",
       "      <td>0.000000</td>\n",
       "      <td>0.004785</td>\n",
       "      <td>167.000000</td>\n",
       "      <td>0.000000</td>\n",
       "    </tr>\n",
       "    <tr>\n",
       "      <th>max</th>\n",
       "      <td>1.985307e+06</td>\n",
       "      <td>0.228647</td>\n",
       "      <td>63.000000</td>\n",
       "      <td>65.000000</td>\n",
       "      <td>34.000000</td>\n",
       "      <td>88.000000</td>\n",
       "      <td>48.000000</td>\n",
       "      <td>9.000000</td>\n",
       "      <td>3.000000</td>\n",
       "      <td>181.000000</td>\n",
       "      <td>...</td>\n",
       "      <td>17.000000</td>\n",
       "      <td>62.000000</td>\n",
       "      <td>54.00000</td>\n",
       "      <td>59.000000</td>\n",
       "      <td>45.000000</td>\n",
       "      <td>106.000000</td>\n",
       "      <td>7.000000</td>\n",
       "      <td>0.333333</td>\n",
       "      <td>24667.000000</td>\n",
       "      <td>1.000000</td>\n",
       "    </tr>\n",
       "  </tbody>\n",
       "</table>\n",
       "<p>8 rows × 22 columns</p>\n",
       "</div>"
      ],
      "text/plain": [
       "       Total Number of Characters C  Vocabulary richness W/C        Account  \\\n",
       "count                  5.257540e+05            525754.000000  525754.000000   \n",
       "mean                   2.276502e+03                 0.120999       0.088178   \n",
       "std                    7.593063e+03                 0.024149       0.636271   \n",
       "min                    1.100000e+01                 0.013260       0.000000   \n",
       "25%                    7.900000e+02                 0.104895       0.000000   \n",
       "50%                    1.297000e+03                 0.121898       0.000000   \n",
       "75%                    2.248000e+03                 0.138456       0.000000   \n",
       "max                    1.985307e+06                 0.228647      63.000000   \n",
       "\n",
       "              Access           Bank         Credit          Click  \\\n",
       "count  525754.000000  525754.000000  525754.000000  525754.000000   \n",
       "mean        0.126308       0.050759       0.155843       0.121635   \n",
       "std         0.734079       0.559868       1.253096       0.687737   \n",
       "min         0.000000       0.000000       0.000000       0.000000   \n",
       "25%         0.000000       0.000000       0.000000       0.000000   \n",
       "50%         0.000000       0.000000       0.000000       0.000000   \n",
       "75%         0.000000       0.000000       0.000000       0.000000   \n",
       "max        65.000000      34.000000      88.000000      48.000000   \n",
       "\n",
       "            Identity  Inconvenience    Information  ...       Password  \\\n",
       "count  525754.000000  525754.000000  525754.000000  ...  525754.000000   \n",
       "mean        0.003815       0.003167       0.289873  ...       0.023981   \n",
       "std         0.086242       0.059889       1.215314  ...       0.287013   \n",
       "min         0.000000       0.000000       0.000000  ...       0.000000   \n",
       "25%         0.000000       0.000000       0.000000  ...       0.000000   \n",
       "50%         0.000000       0.000000       0.000000  ...       0.000000   \n",
       "75%         0.000000       0.000000       0.000000  ...       0.000000   \n",
       "max         9.000000       3.000000     181.000000  ...      17.000000   \n",
       "\n",
       "            Recently          Risk         Social       Security  \\\n",
       "count  525754.000000  525754.00000  525754.000000  525754.000000   \n",
       "mean        0.034453       0.11234       0.007874       0.048199   \n",
       "std         0.314402       0.77089       0.231209       0.456293   \n",
       "min         0.000000       0.00000       0.000000       0.000000   \n",
       "25%         0.000000       0.00000       0.000000       0.000000   \n",
       "50%         0.000000       0.00000       0.000000       0.000000   \n",
       "75%         0.000000       0.00000       0.000000       0.000000   \n",
       "max        62.000000      54.00000      59.000000      45.000000   \n",
       "\n",
       "             Service      Suspended  Total number of Function words/W  \\\n",
       "count  525754.000000  525754.000000                     525754.000000   \n",
       "mean        0.131139       0.004991                          0.003818   \n",
       "std         0.823307       0.088576                          0.007944   \n",
       "min         0.000000       0.000000                          0.000000   \n",
       "25%         0.000000       0.000000                          0.000000   \n",
       "50%         0.000000       0.000000                          0.000000   \n",
       "75%         0.000000       0.000000                          0.004785   \n",
       "max       106.000000       7.000000                          0.333333   \n",
       "\n",
       "        Unique Words  Phishing Status  \n",
       "count  525754.000000    525754.000000  \n",
       "mean      153.298839         0.015886  \n",
       "std       200.706245         0.125034  \n",
       "min         2.000000         0.000000  \n",
       "25%        71.000000         0.000000  \n",
       "50%       106.000000         0.000000  \n",
       "75%       167.000000         0.000000  \n",
       "max     24667.000000         1.000000  \n",
       "\n",
       "[8 rows x 22 columns]"
      ]
     },
     "execution_count": 8,
     "metadata": {},
     "output_type": "execute_result"
    }
   ],
   "source": [
    "df.describe()"
   ]
  },
  {
   "cell_type": "code",
   "execution_count": 9,
   "id": "43ca08c9",
   "metadata": {},
   "outputs": [
    {
     "data": {
      "text/plain": [
       "(525754, 22)"
      ]
     },
     "execution_count": 9,
     "metadata": {},
     "output_type": "execute_result"
    }
   ],
   "source": [
    "df.shape"
   ]
  },
  {
   "cell_type": "code",
   "execution_count": 10,
   "id": "f65410d7",
   "metadata": {},
   "outputs": [
    {
     "data": {
      "text/html": [
       "<div>\n",
       "<style scoped>\n",
       "    .dataframe tbody tr th:only-of-type {\n",
       "        vertical-align: middle;\n",
       "    }\n",
       "\n",
       "    .dataframe tbody tr th {\n",
       "        vertical-align: top;\n",
       "    }\n",
       "\n",
       "    .dataframe thead th {\n",
       "        text-align: right;\n",
       "    }\n",
       "</style>\n",
       "<table border=\"1\" class=\"dataframe\">\n",
       "  <thead>\n",
       "    <tr style=\"text-align: right;\">\n",
       "      <th></th>\n",
       "      <th>Total Number of Characters C</th>\n",
       "      <th>Vocabulary richness W/C</th>\n",
       "      <th>Account</th>\n",
       "      <th>Access</th>\n",
       "      <th>Bank</th>\n",
       "      <th>Credit</th>\n",
       "      <th>Click</th>\n",
       "      <th>Identity</th>\n",
       "      <th>Inconvenience</th>\n",
       "      <th>Information</th>\n",
       "      <th>...</th>\n",
       "      <th>Password</th>\n",
       "      <th>Recently</th>\n",
       "      <th>Risk</th>\n",
       "      <th>Social</th>\n",
       "      <th>Security</th>\n",
       "      <th>Service</th>\n",
       "      <th>Suspended</th>\n",
       "      <th>Total number of Function words/W</th>\n",
       "      <th>Unique Words</th>\n",
       "      <th>Phishing Status</th>\n",
       "    </tr>\n",
       "  </thead>\n",
       "  <tbody>\n",
       "    <tr>\n",
       "      <th>Total Number of Characters C</th>\n",
       "      <td>1.000000</td>\n",
       "      <td>0.015364</td>\n",
       "      <td>0.086415</td>\n",
       "      <td>0.156693</td>\n",
       "      <td>0.194119</td>\n",
       "      <td>0.207473</td>\n",
       "      <td>0.064340</td>\n",
       "      <td>0.043549</td>\n",
       "      <td>0.031305</td>\n",
       "      <td>0.191091</td>\n",
       "      <td>...</td>\n",
       "      <td>0.008881</td>\n",
       "      <td>0.272867</td>\n",
       "      <td>0.138914</td>\n",
       "      <td>0.063153</td>\n",
       "      <td>0.109808</td>\n",
       "      <td>0.263107</td>\n",
       "      <td>0.095353</td>\n",
       "      <td>0.019901</td>\n",
       "      <td>0.777286</td>\n",
       "      <td>0.054322</td>\n",
       "    </tr>\n",
       "    <tr>\n",
       "      <th>Vocabulary richness W/C</th>\n",
       "      <td>0.015364</td>\n",
       "      <td>1.000000</td>\n",
       "      <td>0.029611</td>\n",
       "      <td>0.081987</td>\n",
       "      <td>0.071024</td>\n",
       "      <td>0.089298</td>\n",
       "      <td>0.067862</td>\n",
       "      <td>0.008896</td>\n",
       "      <td>0.006164</td>\n",
       "      <td>0.132715</td>\n",
       "      <td>...</td>\n",
       "      <td>0.034500</td>\n",
       "      <td>0.105487</td>\n",
       "      <td>0.118150</td>\n",
       "      <td>0.029109</td>\n",
       "      <td>0.044204</td>\n",
       "      <td>0.121771</td>\n",
       "      <td>0.033222</td>\n",
       "      <td>0.108629</td>\n",
       "      <td>0.176997</td>\n",
       "      <td>-0.084871</td>\n",
       "    </tr>\n",
       "    <tr>\n",
       "      <th>Account</th>\n",
       "      <td>0.086415</td>\n",
       "      <td>0.029611</td>\n",
       "      <td>1.000000</td>\n",
       "      <td>0.177779</td>\n",
       "      <td>0.141145</td>\n",
       "      <td>0.081992</td>\n",
       "      <td>0.090980</td>\n",
       "      <td>0.138342</td>\n",
       "      <td>0.228418</td>\n",
       "      <td>0.129929</td>\n",
       "      <td>...</td>\n",
       "      <td>0.101886</td>\n",
       "      <td>0.123944</td>\n",
       "      <td>0.024666</td>\n",
       "      <td>0.021151</td>\n",
       "      <td>0.236259</td>\n",
       "      <td>0.078433</td>\n",
       "      <td>0.110110</td>\n",
       "      <td>0.405280</td>\n",
       "      <td>0.114535</td>\n",
       "      <td>0.498884</td>\n",
       "    </tr>\n",
       "    <tr>\n",
       "      <th>Access</th>\n",
       "      <td>0.156693</td>\n",
       "      <td>0.081987</td>\n",
       "      <td>0.177779</td>\n",
       "      <td>1.000000</td>\n",
       "      <td>0.115335</td>\n",
       "      <td>0.118780</td>\n",
       "      <td>0.101823</td>\n",
       "      <td>0.045566</td>\n",
       "      <td>0.079247</td>\n",
       "      <td>0.211926</td>\n",
       "      <td>...</td>\n",
       "      <td>0.102252</td>\n",
       "      <td>0.154984</td>\n",
       "      <td>0.089429</td>\n",
       "      <td>0.019545</td>\n",
       "      <td>0.179435</td>\n",
       "      <td>0.311337</td>\n",
       "      <td>0.053226</td>\n",
       "      <td>0.313356</td>\n",
       "      <td>0.269821</td>\n",
       "      <td>0.081297</td>\n",
       "    </tr>\n",
       "    <tr>\n",
       "      <th>Bank</th>\n",
       "      <td>0.194119</td>\n",
       "      <td>0.071024</td>\n",
       "      <td>0.141145</td>\n",
       "      <td>0.115335</td>\n",
       "      <td>1.000000</td>\n",
       "      <td>0.372057</td>\n",
       "      <td>0.029317</td>\n",
       "      <td>0.047751</td>\n",
       "      <td>0.024590</td>\n",
       "      <td>0.109932</td>\n",
       "      <td>...</td>\n",
       "      <td>0.008274</td>\n",
       "      <td>0.214388</td>\n",
       "      <td>0.204448</td>\n",
       "      <td>0.044005</td>\n",
       "      <td>0.111716</td>\n",
       "      <td>0.216228</td>\n",
       "      <td>0.062932</td>\n",
       "      <td>0.156617</td>\n",
       "      <td>0.293615</td>\n",
       "      <td>0.126890</td>\n",
       "    </tr>\n",
       "    <tr>\n",
       "      <th>Credit</th>\n",
       "      <td>0.207473</td>\n",
       "      <td>0.089298</td>\n",
       "      <td>0.081992</td>\n",
       "      <td>0.118780</td>\n",
       "      <td>0.372057</td>\n",
       "      <td>1.000000</td>\n",
       "      <td>0.025999</td>\n",
       "      <td>0.044130</td>\n",
       "      <td>0.021024</td>\n",
       "      <td>0.127348</td>\n",
       "      <td>...</td>\n",
       "      <td>-0.000565</td>\n",
       "      <td>0.188714</td>\n",
       "      <td>0.278598</td>\n",
       "      <td>0.022359</td>\n",
       "      <td>0.077597</td>\n",
       "      <td>0.248460</td>\n",
       "      <td>0.066764</td>\n",
       "      <td>0.201809</td>\n",
       "      <td>0.313598</td>\n",
       "      <td>0.015216</td>\n",
       "    </tr>\n",
       "    <tr>\n",
       "      <th>Click</th>\n",
       "      <td>0.064340</td>\n",
       "      <td>0.067862</td>\n",
       "      <td>0.090980</td>\n",
       "      <td>0.101823</td>\n",
       "      <td>0.029317</td>\n",
       "      <td>0.025999</td>\n",
       "      <td>1.000000</td>\n",
       "      <td>0.018632</td>\n",
       "      <td>0.015123</td>\n",
       "      <td>0.104834</td>\n",
       "      <td>...</td>\n",
       "      <td>0.088298</td>\n",
       "      <td>0.022587</td>\n",
       "      <td>0.037006</td>\n",
       "      <td>0.008498</td>\n",
       "      <td>0.046171</td>\n",
       "      <td>0.076723</td>\n",
       "      <td>0.024005</td>\n",
       "      <td>0.287146</td>\n",
       "      <td>0.127362</td>\n",
       "      <td>0.057225</td>\n",
       "    </tr>\n",
       "    <tr>\n",
       "      <th>Identity</th>\n",
       "      <td>0.043549</td>\n",
       "      <td>0.008896</td>\n",
       "      <td>0.138342</td>\n",
       "      <td>0.045566</td>\n",
       "      <td>0.047751</td>\n",
       "      <td>0.044130</td>\n",
       "      <td>0.018632</td>\n",
       "      <td>1.000000</td>\n",
       "      <td>0.048480</td>\n",
       "      <td>0.077263</td>\n",
       "      <td>...</td>\n",
       "      <td>0.009520</td>\n",
       "      <td>0.046641</td>\n",
       "      <td>0.008001</td>\n",
       "      <td>0.022722</td>\n",
       "      <td>0.079332</td>\n",
       "      <td>0.055690</td>\n",
       "      <td>0.030125</td>\n",
       "      <td>0.100812</td>\n",
       "      <td>0.055886</td>\n",
       "      <td>0.148720</td>\n",
       "    </tr>\n",
       "    <tr>\n",
       "      <th>Inconvenience</th>\n",
       "      <td>0.031305</td>\n",
       "      <td>0.006164</td>\n",
       "      <td>0.228418</td>\n",
       "      <td>0.079247</td>\n",
       "      <td>0.024590</td>\n",
       "      <td>0.021024</td>\n",
       "      <td>0.015123</td>\n",
       "      <td>0.048480</td>\n",
       "      <td>1.000000</td>\n",
       "      <td>0.031290</td>\n",
       "      <td>...</td>\n",
       "      <td>0.026786</td>\n",
       "      <td>0.044713</td>\n",
       "      <td>0.005931</td>\n",
       "      <td>0.001908</td>\n",
       "      <td>0.134803</td>\n",
       "      <td>0.028185</td>\n",
       "      <td>0.035027</td>\n",
       "      <td>0.145144</td>\n",
       "      <td>0.039945</td>\n",
       "      <td>0.175911</td>\n",
       "    </tr>\n",
       "    <tr>\n",
       "      <th>Information</th>\n",
       "      <td>0.191091</td>\n",
       "      <td>0.132715</td>\n",
       "      <td>0.129929</td>\n",
       "      <td>0.211926</td>\n",
       "      <td>0.109932</td>\n",
       "      <td>0.127348</td>\n",
       "      <td>0.104834</td>\n",
       "      <td>0.077263</td>\n",
       "      <td>0.031290</td>\n",
       "      <td>1.000000</td>\n",
       "      <td>...</td>\n",
       "      <td>0.040211</td>\n",
       "      <td>0.178722</td>\n",
       "      <td>0.143791</td>\n",
       "      <td>0.045589</td>\n",
       "      <td>0.150555</td>\n",
       "      <td>0.234295</td>\n",
       "      <td>0.050664</td>\n",
       "      <td>0.296983</td>\n",
       "      <td>0.313058</td>\n",
       "      <td>0.064776</td>\n",
       "    </tr>\n",
       "    <tr>\n",
       "      <th>Limited</th>\n",
       "      <td>0.248735</td>\n",
       "      <td>0.112319</td>\n",
       "      <td>0.168844</td>\n",
       "      <td>0.158846</td>\n",
       "      <td>0.254165</td>\n",
       "      <td>0.352935</td>\n",
       "      <td>0.084876</td>\n",
       "      <td>0.046869</td>\n",
       "      <td>0.080224</td>\n",
       "      <td>0.191285</td>\n",
       "      <td>...</td>\n",
       "      <td>0.018420</td>\n",
       "      <td>0.282986</td>\n",
       "      <td>0.134683</td>\n",
       "      <td>0.030735</td>\n",
       "      <td>0.122336</td>\n",
       "      <td>0.289014</td>\n",
       "      <td>0.100038</td>\n",
       "      <td>0.138610</td>\n",
       "      <td>0.372036</td>\n",
       "      <td>0.059878</td>\n",
       "    </tr>\n",
       "    <tr>\n",
       "      <th>Minutes</th>\n",
       "      <td>0.092840</td>\n",
       "      <td>0.072738</td>\n",
       "      <td>0.021957</td>\n",
       "      <td>0.076944</td>\n",
       "      <td>0.033101</td>\n",
       "      <td>0.025199</td>\n",
       "      <td>0.045400</td>\n",
       "      <td>0.008383</td>\n",
       "      <td>0.014189</td>\n",
       "      <td>0.058200</td>\n",
       "      <td>...</td>\n",
       "      <td>0.002069</td>\n",
       "      <td>0.054194</td>\n",
       "      <td>0.027441</td>\n",
       "      <td>0.011427</td>\n",
       "      <td>0.023500</td>\n",
       "      <td>0.060185</td>\n",
       "      <td>0.024786</td>\n",
       "      <td>0.110006</td>\n",
       "      <td>0.153325</td>\n",
       "      <td>0.012025</td>\n",
       "    </tr>\n",
       "    <tr>\n",
       "      <th>Password</th>\n",
       "      <td>0.008881</td>\n",
       "      <td>0.034500</td>\n",
       "      <td>0.101886</td>\n",
       "      <td>0.102252</td>\n",
       "      <td>0.008274</td>\n",
       "      <td>-0.000565</td>\n",
       "      <td>0.088298</td>\n",
       "      <td>0.009520</td>\n",
       "      <td>0.026786</td>\n",
       "      <td>0.040211</td>\n",
       "      <td>...</td>\n",
       "      <td>1.000000</td>\n",
       "      <td>0.010615</td>\n",
       "      <td>0.000659</td>\n",
       "      <td>0.004234</td>\n",
       "      <td>0.111531</td>\n",
       "      <td>0.016457</td>\n",
       "      <td>0.008235</td>\n",
       "      <td>0.269505</td>\n",
       "      <td>0.018814</td>\n",
       "      <td>0.069682</td>\n",
       "    </tr>\n",
       "    <tr>\n",
       "      <th>Recently</th>\n",
       "      <td>0.272867</td>\n",
       "      <td>0.105487</td>\n",
       "      <td>0.123944</td>\n",
       "      <td>0.154984</td>\n",
       "      <td>0.214388</td>\n",
       "      <td>0.188714</td>\n",
       "      <td>0.022587</td>\n",
       "      <td>0.046641</td>\n",
       "      <td>0.044713</td>\n",
       "      <td>0.178722</td>\n",
       "      <td>...</td>\n",
       "      <td>0.010615</td>\n",
       "      <td>1.000000</td>\n",
       "      <td>0.125744</td>\n",
       "      <td>0.127540</td>\n",
       "      <td>0.151528</td>\n",
       "      <td>0.280640</td>\n",
       "      <td>0.082341</td>\n",
       "      <td>0.089510</td>\n",
       "      <td>0.407417</td>\n",
       "      <td>0.051735</td>\n",
       "    </tr>\n",
       "    <tr>\n",
       "      <th>Risk</th>\n",
       "      <td>0.138914</td>\n",
       "      <td>0.118150</td>\n",
       "      <td>0.024666</td>\n",
       "      <td>0.089429</td>\n",
       "      <td>0.204448</td>\n",
       "      <td>0.278598</td>\n",
       "      <td>0.037006</td>\n",
       "      <td>0.008001</td>\n",
       "      <td>0.005931</td>\n",
       "      <td>0.143791</td>\n",
       "      <td>...</td>\n",
       "      <td>0.000659</td>\n",
       "      <td>0.125744</td>\n",
       "      <td>1.000000</td>\n",
       "      <td>0.030082</td>\n",
       "      <td>0.050365</td>\n",
       "      <td>0.116627</td>\n",
       "      <td>0.029756</td>\n",
       "      <td>0.219460</td>\n",
       "      <td>0.241756</td>\n",
       "      <td>-0.016699</td>\n",
       "    </tr>\n",
       "    <tr>\n",
       "      <th>Social</th>\n",
       "      <td>0.063153</td>\n",
       "      <td>0.029109</td>\n",
       "      <td>0.021151</td>\n",
       "      <td>0.019545</td>\n",
       "      <td>0.044005</td>\n",
       "      <td>0.022359</td>\n",
       "      <td>0.008498</td>\n",
       "      <td>0.022722</td>\n",
       "      <td>0.001908</td>\n",
       "      <td>0.045589</td>\n",
       "      <td>...</td>\n",
       "      <td>0.004234</td>\n",
       "      <td>0.127540</td>\n",
       "      <td>0.030082</td>\n",
       "      <td>1.000000</td>\n",
       "      <td>0.321176</td>\n",
       "      <td>0.057075</td>\n",
       "      <td>0.020278</td>\n",
       "      <td>0.045344</td>\n",
       "      <td>0.099165</td>\n",
       "      <td>0.007187</td>\n",
       "    </tr>\n",
       "    <tr>\n",
       "      <th>Security</th>\n",
       "      <td>0.109808</td>\n",
       "      <td>0.044204</td>\n",
       "      <td>0.236259</td>\n",
       "      <td>0.179435</td>\n",
       "      <td>0.111716</td>\n",
       "      <td>0.077597</td>\n",
       "      <td>0.046171</td>\n",
       "      <td>0.079332</td>\n",
       "      <td>0.134803</td>\n",
       "      <td>0.150555</td>\n",
       "      <td>...</td>\n",
       "      <td>0.111531</td>\n",
       "      <td>0.151528</td>\n",
       "      <td>0.050365</td>\n",
       "      <td>0.321176</td>\n",
       "      <td>1.000000</td>\n",
       "      <td>0.151764</td>\n",
       "      <td>0.054568</td>\n",
       "      <td>0.272385</td>\n",
       "      <td>0.165570</td>\n",
       "      <td>0.185277</td>\n",
       "    </tr>\n",
       "    <tr>\n",
       "      <th>Service</th>\n",
       "      <td>0.263107</td>\n",
       "      <td>0.121771</td>\n",
       "      <td>0.078433</td>\n",
       "      <td>0.311337</td>\n",
       "      <td>0.216228</td>\n",
       "      <td>0.248460</td>\n",
       "      <td>0.076723</td>\n",
       "      <td>0.055690</td>\n",
       "      <td>0.028185</td>\n",
       "      <td>0.234295</td>\n",
       "      <td>...</td>\n",
       "      <td>0.016457</td>\n",
       "      <td>0.280640</td>\n",
       "      <td>0.116627</td>\n",
       "      <td>0.057075</td>\n",
       "      <td>0.151764</td>\n",
       "      <td>1.000000</td>\n",
       "      <td>0.095170</td>\n",
       "      <td>0.163084</td>\n",
       "      <td>0.407145</td>\n",
       "      <td>0.026195</td>\n",
       "    </tr>\n",
       "    <tr>\n",
       "      <th>Suspended</th>\n",
       "      <td>0.095353</td>\n",
       "      <td>0.033222</td>\n",
       "      <td>0.110110</td>\n",
       "      <td>0.053226</td>\n",
       "      <td>0.062932</td>\n",
       "      <td>0.066764</td>\n",
       "      <td>0.024005</td>\n",
       "      <td>0.030125</td>\n",
       "      <td>0.035027</td>\n",
       "      <td>0.050664</td>\n",
       "      <td>...</td>\n",
       "      <td>0.008235</td>\n",
       "      <td>0.082341</td>\n",
       "      <td>0.029756</td>\n",
       "      <td>0.020278</td>\n",
       "      <td>0.054568</td>\n",
       "      <td>0.095170</td>\n",
       "      <td>1.000000</td>\n",
       "      <td>0.084735</td>\n",
       "      <td>0.134281</td>\n",
       "      <td>0.091592</td>\n",
       "    </tr>\n",
       "    <tr>\n",
       "      <th>Total number of Function words/W</th>\n",
       "      <td>0.019901</td>\n",
       "      <td>0.108629</td>\n",
       "      <td>0.405280</td>\n",
       "      <td>0.313356</td>\n",
       "      <td>0.156617</td>\n",
       "      <td>0.201809</td>\n",
       "      <td>0.287146</td>\n",
       "      <td>0.100812</td>\n",
       "      <td>0.145144</td>\n",
       "      <td>0.296983</td>\n",
       "      <td>...</td>\n",
       "      <td>0.269505</td>\n",
       "      <td>0.089510</td>\n",
       "      <td>0.219460</td>\n",
       "      <td>0.045344</td>\n",
       "      <td>0.272385</td>\n",
       "      <td>0.163084</td>\n",
       "      <td>0.084735</td>\n",
       "      <td>1.000000</td>\n",
       "      <td>0.051829</td>\n",
       "      <td>0.286840</td>\n",
       "    </tr>\n",
       "    <tr>\n",
       "      <th>Unique Words</th>\n",
       "      <td>0.777286</td>\n",
       "      <td>0.176997</td>\n",
       "      <td>0.114535</td>\n",
       "      <td>0.269821</td>\n",
       "      <td>0.293615</td>\n",
       "      <td>0.313598</td>\n",
       "      <td>0.127362</td>\n",
       "      <td>0.055886</td>\n",
       "      <td>0.039945</td>\n",
       "      <td>0.313058</td>\n",
       "      <td>...</td>\n",
       "      <td>0.018814</td>\n",
       "      <td>0.407417</td>\n",
       "      <td>0.241756</td>\n",
       "      <td>0.099165</td>\n",
       "      <td>0.165570</td>\n",
       "      <td>0.407145</td>\n",
       "      <td>0.134281</td>\n",
       "      <td>0.051829</td>\n",
       "      <td>1.000000</td>\n",
       "      <td>0.025923</td>\n",
       "    </tr>\n",
       "    <tr>\n",
       "      <th>Phishing Status</th>\n",
       "      <td>0.054322</td>\n",
       "      <td>-0.084871</td>\n",
       "      <td>0.498884</td>\n",
       "      <td>0.081297</td>\n",
       "      <td>0.126890</td>\n",
       "      <td>0.015216</td>\n",
       "      <td>0.057225</td>\n",
       "      <td>0.148720</td>\n",
       "      <td>0.175911</td>\n",
       "      <td>0.064776</td>\n",
       "      <td>...</td>\n",
       "      <td>0.069682</td>\n",
       "      <td>0.051735</td>\n",
       "      <td>-0.016699</td>\n",
       "      <td>0.007187</td>\n",
       "      <td>0.185277</td>\n",
       "      <td>0.026195</td>\n",
       "      <td>0.091592</td>\n",
       "      <td>0.286840</td>\n",
       "      <td>0.025923</td>\n",
       "      <td>1.000000</td>\n",
       "    </tr>\n",
       "  </tbody>\n",
       "</table>\n",
       "<p>22 rows × 22 columns</p>\n",
       "</div>"
      ],
      "text/plain": [
       "                                  Total Number of Characters C  \\\n",
       "Total Number of Characters C                          1.000000   \n",
       "Vocabulary richness W/C                               0.015364   \n",
       "Account                                               0.086415   \n",
       "Access                                                0.156693   \n",
       "Bank                                                  0.194119   \n",
       "Credit                                                0.207473   \n",
       "Click                                                 0.064340   \n",
       "Identity                                              0.043549   \n",
       "Inconvenience                                         0.031305   \n",
       "Information                                           0.191091   \n",
       "Limited                                               0.248735   \n",
       "Minutes                                               0.092840   \n",
       "Password                                              0.008881   \n",
       "Recently                                              0.272867   \n",
       "Risk                                                  0.138914   \n",
       "Social                                                0.063153   \n",
       "Security                                              0.109808   \n",
       "Service                                               0.263107   \n",
       "Suspended                                             0.095353   \n",
       "Total number of Function words/W                      0.019901   \n",
       "Unique Words                                          0.777286   \n",
       "Phishing Status                                       0.054322   \n",
       "\n",
       "                                  Vocabulary richness W/C   Account    Access  \\\n",
       "Total Number of Characters C                     0.015364  0.086415  0.156693   \n",
       "Vocabulary richness W/C                          1.000000  0.029611  0.081987   \n",
       "Account                                          0.029611  1.000000  0.177779   \n",
       "Access                                           0.081987  0.177779  1.000000   \n",
       "Bank                                             0.071024  0.141145  0.115335   \n",
       "Credit                                           0.089298  0.081992  0.118780   \n",
       "Click                                            0.067862  0.090980  0.101823   \n",
       "Identity                                         0.008896  0.138342  0.045566   \n",
       "Inconvenience                                    0.006164  0.228418  0.079247   \n",
       "Information                                      0.132715  0.129929  0.211926   \n",
       "Limited                                          0.112319  0.168844  0.158846   \n",
       "Minutes                                          0.072738  0.021957  0.076944   \n",
       "Password                                         0.034500  0.101886  0.102252   \n",
       "Recently                                         0.105487  0.123944  0.154984   \n",
       "Risk                                             0.118150  0.024666  0.089429   \n",
       "Social                                           0.029109  0.021151  0.019545   \n",
       "Security                                         0.044204  0.236259  0.179435   \n",
       "Service                                          0.121771  0.078433  0.311337   \n",
       "Suspended                                        0.033222  0.110110  0.053226   \n",
       "Total number of Function words/W                 0.108629  0.405280  0.313356   \n",
       "Unique Words                                     0.176997  0.114535  0.269821   \n",
       "Phishing Status                                 -0.084871  0.498884  0.081297   \n",
       "\n",
       "                                      Bank    Credit     Click  Identity  \\\n",
       "Total Number of Characters C      0.194119  0.207473  0.064340  0.043549   \n",
       "Vocabulary richness W/C           0.071024  0.089298  0.067862  0.008896   \n",
       "Account                           0.141145  0.081992  0.090980  0.138342   \n",
       "Access                            0.115335  0.118780  0.101823  0.045566   \n",
       "Bank                              1.000000  0.372057  0.029317  0.047751   \n",
       "Credit                            0.372057  1.000000  0.025999  0.044130   \n",
       "Click                             0.029317  0.025999  1.000000  0.018632   \n",
       "Identity                          0.047751  0.044130  0.018632  1.000000   \n",
       "Inconvenience                     0.024590  0.021024  0.015123  0.048480   \n",
       "Information                       0.109932  0.127348  0.104834  0.077263   \n",
       "Limited                           0.254165  0.352935  0.084876  0.046869   \n",
       "Minutes                           0.033101  0.025199  0.045400  0.008383   \n",
       "Password                          0.008274 -0.000565  0.088298  0.009520   \n",
       "Recently                          0.214388  0.188714  0.022587  0.046641   \n",
       "Risk                              0.204448  0.278598  0.037006  0.008001   \n",
       "Social                            0.044005  0.022359  0.008498  0.022722   \n",
       "Security                          0.111716  0.077597  0.046171  0.079332   \n",
       "Service                           0.216228  0.248460  0.076723  0.055690   \n",
       "Suspended                         0.062932  0.066764  0.024005  0.030125   \n",
       "Total number of Function words/W  0.156617  0.201809  0.287146  0.100812   \n",
       "Unique Words                      0.293615  0.313598  0.127362  0.055886   \n",
       "Phishing Status                   0.126890  0.015216  0.057225  0.148720   \n",
       "\n",
       "                                  Inconvenience  Information  ...  Password  \\\n",
       "Total Number of Characters C           0.031305     0.191091  ...  0.008881   \n",
       "Vocabulary richness W/C                0.006164     0.132715  ...  0.034500   \n",
       "Account                                0.228418     0.129929  ...  0.101886   \n",
       "Access                                 0.079247     0.211926  ...  0.102252   \n",
       "Bank                                   0.024590     0.109932  ...  0.008274   \n",
       "Credit                                 0.021024     0.127348  ... -0.000565   \n",
       "Click                                  0.015123     0.104834  ...  0.088298   \n",
       "Identity                               0.048480     0.077263  ...  0.009520   \n",
       "Inconvenience                          1.000000     0.031290  ...  0.026786   \n",
       "Information                            0.031290     1.000000  ...  0.040211   \n",
       "Limited                                0.080224     0.191285  ...  0.018420   \n",
       "Minutes                                0.014189     0.058200  ...  0.002069   \n",
       "Password                               0.026786     0.040211  ...  1.000000   \n",
       "Recently                               0.044713     0.178722  ...  0.010615   \n",
       "Risk                                   0.005931     0.143791  ...  0.000659   \n",
       "Social                                 0.001908     0.045589  ...  0.004234   \n",
       "Security                               0.134803     0.150555  ...  0.111531   \n",
       "Service                                0.028185     0.234295  ...  0.016457   \n",
       "Suspended                              0.035027     0.050664  ...  0.008235   \n",
       "Total number of Function words/W       0.145144     0.296983  ...  0.269505   \n",
       "Unique Words                           0.039945     0.313058  ...  0.018814   \n",
       "Phishing Status                        0.175911     0.064776  ...  0.069682   \n",
       "\n",
       "                                  Recently      Risk    Social  Security  \\\n",
       "Total Number of Characters C      0.272867  0.138914  0.063153  0.109808   \n",
       "Vocabulary richness W/C           0.105487  0.118150  0.029109  0.044204   \n",
       "Account                           0.123944  0.024666  0.021151  0.236259   \n",
       "Access                            0.154984  0.089429  0.019545  0.179435   \n",
       "Bank                              0.214388  0.204448  0.044005  0.111716   \n",
       "Credit                            0.188714  0.278598  0.022359  0.077597   \n",
       "Click                             0.022587  0.037006  0.008498  0.046171   \n",
       "Identity                          0.046641  0.008001  0.022722  0.079332   \n",
       "Inconvenience                     0.044713  0.005931  0.001908  0.134803   \n",
       "Information                       0.178722  0.143791  0.045589  0.150555   \n",
       "Limited                           0.282986  0.134683  0.030735  0.122336   \n",
       "Minutes                           0.054194  0.027441  0.011427  0.023500   \n",
       "Password                          0.010615  0.000659  0.004234  0.111531   \n",
       "Recently                          1.000000  0.125744  0.127540  0.151528   \n",
       "Risk                              0.125744  1.000000  0.030082  0.050365   \n",
       "Social                            0.127540  0.030082  1.000000  0.321176   \n",
       "Security                          0.151528  0.050365  0.321176  1.000000   \n",
       "Service                           0.280640  0.116627  0.057075  0.151764   \n",
       "Suspended                         0.082341  0.029756  0.020278  0.054568   \n",
       "Total number of Function words/W  0.089510  0.219460  0.045344  0.272385   \n",
       "Unique Words                      0.407417  0.241756  0.099165  0.165570   \n",
       "Phishing Status                   0.051735 -0.016699  0.007187  0.185277   \n",
       "\n",
       "                                   Service  Suspended  \\\n",
       "Total Number of Characters C      0.263107   0.095353   \n",
       "Vocabulary richness W/C           0.121771   0.033222   \n",
       "Account                           0.078433   0.110110   \n",
       "Access                            0.311337   0.053226   \n",
       "Bank                              0.216228   0.062932   \n",
       "Credit                            0.248460   0.066764   \n",
       "Click                             0.076723   0.024005   \n",
       "Identity                          0.055690   0.030125   \n",
       "Inconvenience                     0.028185   0.035027   \n",
       "Information                       0.234295   0.050664   \n",
       "Limited                           0.289014   0.100038   \n",
       "Minutes                           0.060185   0.024786   \n",
       "Password                          0.016457   0.008235   \n",
       "Recently                          0.280640   0.082341   \n",
       "Risk                              0.116627   0.029756   \n",
       "Social                            0.057075   0.020278   \n",
       "Security                          0.151764   0.054568   \n",
       "Service                           1.000000   0.095170   \n",
       "Suspended                         0.095170   1.000000   \n",
       "Total number of Function words/W  0.163084   0.084735   \n",
       "Unique Words                      0.407145   0.134281   \n",
       "Phishing Status                   0.026195   0.091592   \n",
       "\n",
       "                                  Total number of Function words/W  \\\n",
       "Total Number of Characters C                              0.019901   \n",
       "Vocabulary richness W/C                                   0.108629   \n",
       "Account                                                   0.405280   \n",
       "Access                                                    0.313356   \n",
       "Bank                                                      0.156617   \n",
       "Credit                                                    0.201809   \n",
       "Click                                                     0.287146   \n",
       "Identity                                                  0.100812   \n",
       "Inconvenience                                             0.145144   \n",
       "Information                                               0.296983   \n",
       "Limited                                                   0.138610   \n",
       "Minutes                                                   0.110006   \n",
       "Password                                                  0.269505   \n",
       "Recently                                                  0.089510   \n",
       "Risk                                                      0.219460   \n",
       "Social                                                    0.045344   \n",
       "Security                                                  0.272385   \n",
       "Service                                                   0.163084   \n",
       "Suspended                                                 0.084735   \n",
       "Total number of Function words/W                          1.000000   \n",
       "Unique Words                                              0.051829   \n",
       "Phishing Status                                           0.286840   \n",
       "\n",
       "                                  Unique Words  Phishing Status  \n",
       "Total Number of Characters C          0.777286         0.054322  \n",
       "Vocabulary richness W/C               0.176997        -0.084871  \n",
       "Account                               0.114535         0.498884  \n",
       "Access                                0.269821         0.081297  \n",
       "Bank                                  0.293615         0.126890  \n",
       "Credit                                0.313598         0.015216  \n",
       "Click                                 0.127362         0.057225  \n",
       "Identity                              0.055886         0.148720  \n",
       "Inconvenience                         0.039945         0.175911  \n",
       "Information                           0.313058         0.064776  \n",
       "Limited                               0.372036         0.059878  \n",
       "Minutes                               0.153325         0.012025  \n",
       "Password                              0.018814         0.069682  \n",
       "Recently                              0.407417         0.051735  \n",
       "Risk                                  0.241756        -0.016699  \n",
       "Social                                0.099165         0.007187  \n",
       "Security                              0.165570         0.185277  \n",
       "Service                               0.407145         0.026195  \n",
       "Suspended                             0.134281         0.091592  \n",
       "Total number of Function words/W      0.051829         0.286840  \n",
       "Unique Words                          1.000000         0.025923  \n",
       "Phishing Status                       0.025923         1.000000  \n",
       "\n",
       "[22 rows x 22 columns]"
      ]
     },
     "execution_count": 10,
     "metadata": {},
     "output_type": "execute_result"
    }
   ],
   "source": [
    "df.corr()"
   ]
  },
  {
   "cell_type": "code",
   "execution_count": 11,
   "id": "7977ede5",
   "metadata": {},
   "outputs": [
    {
     "data": {
      "text/plain": [
       "<AxesSubplot:>"
      ]
     },
     "execution_count": 11,
     "metadata": {},
     "output_type": "execute_result"
    },
    {
     "data": {
      "image/png": "[encoded data removed]",
      "text/plain": [
       "<Figure size 432x288 with 2 Axes>"
      ]
     },
     "metadata": {
      "needs_background": "light"
     },
     "output_type": "display_data"
    }
   ],
   "source": [
    "sns.heatmap(df.corr(), annot= True)"
   ]
  },
  {
   "cell_type": "markdown",
   "id": "1c554c9d",
   "metadata": {},
   "source": [
    "# Visualization Using seaborn"
   ]
  },
  {
   "cell_type": "code",
   "execution_count": 12,
   "id": "0938c241",
   "metadata": {},
   "outputs": [
    {
     "data": {
      "text/plain": [
       "<AxesSubplot:xlabel='Suspended', ylabel='count'>"
      ]
     },
     "execution_count": 12,
     "metadata": {},
     "output_type": "execute_result"
    },
    {
     "data": {
      "image/png": "[encoded data removed]",
      "text/plain": [
       "<Figure size 432x288 with 1 Axes>"
      ]
     },
     "metadata": {
      "needs_background": "light"
     },
     "output_type": "display_data"
    }
   ],
   "source": [
    "sns.countplot(x ='Suspended', hue = 'Phishing Status', data = df)"
   ]
  },
  {
   "cell_type": "code",
   "execution_count": 13,
   "id": "9ea59602",
   "metadata": {},
   "outputs": [
    {
     "data": {
      "text/plain": [
       "<AxesSubplot:xlabel='Suspended', ylabel='count'>"
      ]
     },
     "execution_count": 13,
     "metadata": {},
     "output_type": "execute_result"
    },
    {
     "data": {
      "image/png": "[encoded data removed]",
      "text/plain": [
       "<Figure size 432x288 with 1 Axes>"
      ]
     },
     "metadata": {
      "needs_background": "light"
     },
     "output_type": "display_data"
    }
   ],
   "source": [
    "sns.countplot(x ='Suspended', hue = 'Phishing Status', data = df)"
   ]
  },
  {
   "cell_type": "code",
   "execution_count": 14,
   "id": "27d2504a",
   "metadata": {},
   "outputs": [
    {
     "data": {
      "text/plain": [
       "<AxesSubplot:xlabel='Security', ylabel='count'>"
      ]
     },
     "execution_count": 14,
     "metadata": {},
     "output_type": "execute_result"
    },
    {
     "data": {
      "image/png": "[encoded data removed]",
      "text/plain": [
       "<Figure size 432x288 with 1 Axes>"
      ]
     },
     "metadata": {
      "needs_background": "light"
     },
     "output_type": "display_data"
    }
   ],
   "source": [
    "sns.countplot(x ='Security', hue = 'Phishing Status', data = df)"
   ]
  },
  {
   "cell_type": "code",
   "execution_count": 15,
   "id": "75ca6721",
   "metadata": {},
   "outputs": [
    {
     "data": {
      "text/plain": [
       "<AxesSubplot:xlabel='Risk', ylabel='count'>"
      ]
     },
     "execution_count": 15,
     "metadata": {},
     "output_type": "execute_result"
    },
    {
     "data": {
      "image/png": "[encoded data removed]",
      "text/plain": [
       "<Figure size 432x288 with 1 Axes>"
      ]
     },
     "metadata": {
      "needs_background": "light"
     },
     "output_type": "display_data"
    }
   ],
   "source": [
    "sns.countplot(x ='Risk', hue = 'Phishing Status', data = df)"
   ]
  },
  {
   "cell_type": "code",
   "execution_count": 16,
   "id": "c6d21f3a",
   "metadata": {},
   "outputs": [
    {
     "data": {
      "text/plain": [
       "<AxesSubplot:xlabel='Password', ylabel='count'>"
      ]
     },
     "execution_count": 16,
     "metadata": {},
     "output_type": "execute_result"
    },
    {
     "data": {
      "image/png": "[encoded data removed]",
      "text/plain": [
       "<Figure size 432x288 with 1 Axes>"
      ]
     },
     "metadata": {
      "needs_background": "light"
     },
     "output_type": "display_data"
    }
   ],
   "source": [
    "sns.countplot(x ='Password', hue = 'Phishing Status', data = df)"
   ]
  },
  {
   "cell_type": "code",
   "execution_count": 17,
   "id": "02cf2719",
   "metadata": {},
   "outputs": [
    {
     "data": {
      "text/plain": [
       "<AxesSubplot:xlabel='Credit', ylabel='count'>"
      ]
     },
     "execution_count": 17,
     "metadata": {},
     "output_type": "execute_result"
    },
    {
     "data": {
      "image/png": "[encoded data removed]",
      "text/plain": [
       "<Figure size 432x288 with 1 Axes>"
      ]
     },
     "metadata": {
      "needs_background": "light"
     },
     "output_type": "display_data"
    }
   ],
   "source": [
    "sns.countplot(x ='Credit', hue = 'Phishing Status', data = df)"
   ]
  },
  {
   "cell_type": "code",
   "execution_count": 18,
   "id": "b0ae7427",
   "metadata": {},
   "outputs": [],
   "source": [
    "x = df.drop('Phishing Status', axis= 1)\n",
    "y = df['Phishing Status']"
   ]
  },
  {
   "cell_type": "code",
   "execution_count": 19,
   "id": "a3ba6679",
   "metadata": {},
   "outputs": [
    {
     "data": {
      "text/html": [
       "<div>\n",
       "<style scoped>\n",
       "    .dataframe tbody tr th:only-of-type {\n",
       "        vertical-align: middle;\n",
       "    }\n",
       "\n",
       "    .dataframe tbody tr th {\n",
       "        vertical-align: top;\n",
       "    }\n",
       "\n",
       "    .dataframe thead th {\n",
       "        text-align: right;\n",
       "    }\n",
       "</style>\n",
       "<table border=\"1\" class=\"dataframe\">\n",
       "  <thead>\n",
       "    <tr style=\"text-align: right;\">\n",
       "      <th></th>\n",
       "      <th>Total Number of Characters C</th>\n",
       "      <th>Vocabulary richness W/C</th>\n",
       "      <th>Account</th>\n",
       "      <th>Access</th>\n",
       "      <th>Bank</th>\n",
       "      <th>Credit</th>\n",
       "      <th>Click</th>\n",
       "      <th>Identity</th>\n",
       "      <th>Inconvenience</th>\n",
       "      <th>Information</th>\n",
       "      <th>...</th>\n",
       "      <th>Minutes</th>\n",
       "      <th>Password</th>\n",
       "      <th>Recently</th>\n",
       "      <th>Risk</th>\n",
       "      <th>Social</th>\n",
       "      <th>Security</th>\n",
       "      <th>Service</th>\n",
       "      <th>Suspended</th>\n",
       "      <th>Total number of Function words/W</th>\n",
       "      <th>Unique Words</th>\n",
       "    </tr>\n",
       "  </thead>\n",
       "  <tbody>\n",
       "    <tr>\n",
       "      <th>0</th>\n",
       "      <td>1673</td>\n",
       "      <td>0.128512</td>\n",
       "      <td>2</td>\n",
       "      <td>0</td>\n",
       "      <td>0</td>\n",
       "      <td>0</td>\n",
       "      <td>1</td>\n",
       "      <td>0</td>\n",
       "      <td>0</td>\n",
       "      <td>1</td>\n",
       "      <td>...</td>\n",
       "      <td>0</td>\n",
       "      <td>1</td>\n",
       "      <td>1</td>\n",
       "      <td>0</td>\n",
       "      <td>0</td>\n",
       "      <td>0</td>\n",
       "      <td>0</td>\n",
       "      <td>0</td>\n",
       "      <td>0.027907</td>\n",
       "      <td>132</td>\n",
       "    </tr>\n",
       "    <tr>\n",
       "      <th>1</th>\n",
       "      <td>4465</td>\n",
       "      <td>0.137738</td>\n",
       "      <td>0</td>\n",
       "      <td>0</td>\n",
       "      <td>0</td>\n",
       "      <td>0</td>\n",
       "      <td>0</td>\n",
       "      <td>0</td>\n",
       "      <td>0</td>\n",
       "      <td>4</td>\n",
       "      <td>...</td>\n",
       "      <td>0</td>\n",
       "      <td>0</td>\n",
       "      <td>0</td>\n",
       "      <td>0</td>\n",
       "      <td>0</td>\n",
       "      <td>3</td>\n",
       "      <td>1</td>\n",
       "      <td>0</td>\n",
       "      <td>0.013008</td>\n",
       "      <td>338</td>\n",
       "    </tr>\n",
       "    <tr>\n",
       "      <th>2</th>\n",
       "      <td>6813</td>\n",
       "      <td>0.095993</td>\n",
       "      <td>0</td>\n",
       "      <td>0</td>\n",
       "      <td>0</td>\n",
       "      <td>2</td>\n",
       "      <td>0</td>\n",
       "      <td>0</td>\n",
       "      <td>0</td>\n",
       "      <td>2</td>\n",
       "      <td>...</td>\n",
       "      <td>0</td>\n",
       "      <td>0</td>\n",
       "      <td>0</td>\n",
       "      <td>0</td>\n",
       "      <td>0</td>\n",
       "      <td>0</td>\n",
       "      <td>0</td>\n",
       "      <td>0</td>\n",
       "      <td>0.006116</td>\n",
       "      <td>292</td>\n",
       "    </tr>\n",
       "    <tr>\n",
       "      <th>3</th>\n",
       "      <td>1518</td>\n",
       "      <td>0.109354</td>\n",
       "      <td>0</td>\n",
       "      <td>0</td>\n",
       "      <td>0</td>\n",
       "      <td>1</td>\n",
       "      <td>1</td>\n",
       "      <td>0</td>\n",
       "      <td>0</td>\n",
       "      <td>0</td>\n",
       "      <td>...</td>\n",
       "      <td>0</td>\n",
       "      <td>0</td>\n",
       "      <td>0</td>\n",
       "      <td>0</td>\n",
       "      <td>0</td>\n",
       "      <td>0</td>\n",
       "      <td>0</td>\n",
       "      <td>0</td>\n",
       "      <td>0.012048</td>\n",
       "      <td>102</td>\n",
       "    </tr>\n",
       "    <tr>\n",
       "      <th>4</th>\n",
       "      <td>1881</td>\n",
       "      <td>0.126528</td>\n",
       "      <td>7</td>\n",
       "      <td>3</td>\n",
       "      <td>0</td>\n",
       "      <td>0</td>\n",
       "      <td>0</td>\n",
       "      <td>1</td>\n",
       "      <td>0</td>\n",
       "      <td>2</td>\n",
       "      <td>...</td>\n",
       "      <td>0</td>\n",
       "      <td>0</td>\n",
       "      <td>0</td>\n",
       "      <td>0</td>\n",
       "      <td>0</td>\n",
       "      <td>0</td>\n",
       "      <td>0</td>\n",
       "      <td>2</td>\n",
       "      <td>0.063025</td>\n",
       "      <td>136</td>\n",
       "    </tr>\n",
       "  </tbody>\n",
       "</table>\n",
       "<p>5 rows × 21 columns</p>\n",
       "</div>"
      ],
      "text/plain": [
       "   Total Number of Characters C  Vocabulary richness W/C  Account  Access  \\\n",
       "0                          1673                 0.128512        2       0   \n",
       "1                          4465                 0.137738        0       0   \n",
       "2                          6813                 0.095993        0       0   \n",
       "3                          1518                 0.109354        0       0   \n",
       "4                          1881                 0.126528        7       3   \n",
       "\n",
       "   Bank  Credit  Click  Identity  Inconvenience  Information  ...  Minutes  \\\n",
       "0     0       0      1         0              0            1  ...        0   \n",
       "1     0       0      0         0              0            4  ...        0   \n",
       "2     0       2      0         0              0            2  ...        0   \n",
       "3     0       1      1         0              0            0  ...        0   \n",
       "4     0       0      0         1              0            2  ...        0   \n",
       "\n",
       "   Password  Recently  Risk  Social  Security  Service  Suspended  \\\n",
       "0         1         1     0       0         0        0          0   \n",
       "1         0         0     0       0         3        1          0   \n",
       "2         0         0     0       0         0        0          0   \n",
       "3         0         0     0       0         0        0          0   \n",
       "4         0         0     0       0         0        0          2   \n",
       "\n",
       "   Total number of Function words/W  Unique Words  \n",
       "0                          0.027907           132  \n",
       "1                          0.013008           338  \n",
       "2                          0.006116           292  \n",
       "3                          0.012048           102  \n",
       "4                          0.063025           136  \n",
       "\n",
       "[5 rows x 21 columns]"
      ]
     },
     "execution_count": 19,
     "metadata": {},
     "output_type": "execute_result"
    }
   ],
   "source": [
    "x.head()"
   ]
  },
  {
   "cell_type": "code",
   "execution_count": 20,
   "id": "823d2bf1",
   "metadata": {},
   "outputs": [
    {
     "data": {
      "text/plain": [
       "0    1\n",
       "1    1\n",
       "2    1\n",
       "3    1\n",
       "4    1\n",
       "Name: Phishing Status, dtype: int64"
      ]
     },
     "execution_count": 20,
     "metadata": {},
     "output_type": "execute_result"
    }
   ],
   "source": [
    "y.head()"
   ]
  },
  {
   "cell_type": "code",
   "execution_count": 21,
   "id": "bb370520",
   "metadata": {},
   "outputs": [
    {
     "data": {
      "text/plain": [
       "(525754, 21)"
      ]
     },
     "execution_count": 21,
     "metadata": {},
     "output_type": "execute_result"
    }
   ],
   "source": [
    "x.shape"
   ]
  },
  {
   "cell_type": "code",
   "execution_count": 22,
   "id": "553d7dcb",
   "metadata": {},
   "outputs": [
    {
     "data": {
      "text/plain": [
       "(525754,)"
      ]
     },
     "execution_count": 22,
     "metadata": {},
     "output_type": "execute_result"
    }
   ],
   "source": [
    "y.shape"
   ]
  },
  {
   "cell_type": "markdown",
   "id": "e13c80ce",
   "metadata": {},
   "source": [
    "# Imblanced Data Handling"
   ]
  },
  {
   "cell_type": "code",
   "execution_count": 23,
   "id": "d5c0791c",
   "metadata": {},
   "outputs": [
    {
     "data": {
      "text/plain": [
       "0    517402\n",
       "1      8352\n",
       "Name: Phishing Status, dtype: int64"
      ]
     },
     "execution_count": 23,
     "metadata": {},
     "output_type": "execute_result"
    }
   ],
   "source": [
    "df['Phishing Status'].value_counts()"
   ]
  },
  {
   "cell_type": "code",
   "execution_count": null,
   "id": "664ad036",
   "metadata": {},
   "outputs": [],
   "source": []
  },
  {
   "cell_type": "markdown",
   "id": "3106f6e2",
   "metadata": {},
   "source": [
    "# Synthetic Minority Oversampling Technique (SMOTETomek)"
   ]
  },
  {
   "cell_type": "code",
   "execution_count": 24,
   "id": "c0fa742d",
   "metadata": {},
   "outputs": [],
   "source": [
    "smo = SMOTETomek(random_state = 42)"
   ]
  },
  {
   "cell_type": "code",
   "execution_count": 25,
   "id": "995fd5df",
   "metadata": {},
   "outputs": [
    {
     "data": {
      "text/plain": [
       "0    517402\n",
       "1      8352\n",
       "Name: Phishing Status, dtype: int64"
      ]
     },
     "execution_count": 25,
     "metadata": {},
     "output_type": "execute_result"
    }
   ],
   "source": [
    "y.value_counts()"
   ]
  },
  {
   "cell_type": "code",
   "execution_count": 26,
   "id": "25276eb0",
   "metadata": {},
   "outputs": [],
   "source": [
    "x, y = smo.fit_resample(x,y)"
   ]
  },
  {
   "cell_type": "code",
   "execution_count": 27,
   "id": "2c5c9e46",
   "metadata": {},
   "outputs": [
    {
     "data": {
      "text/plain": [
       "(1032714, 21)"
      ]
     },
     "execution_count": 27,
     "metadata": {},
     "output_type": "execute_result"
    }
   ],
   "source": [
    "x.shape"
   ]
  },
  {
   "cell_type": "code",
   "execution_count": 28,
   "id": "7e3f9e5f",
   "metadata": {},
   "outputs": [
    {
     "data": {
      "text/plain": [
       "(1032714,)"
      ]
     },
     "execution_count": 28,
     "metadata": {},
     "output_type": "execute_result"
    }
   ],
   "source": [
    "y.shape"
   ]
  },
  {
   "cell_type": "code",
   "execution_count": 29,
   "id": "9b5cefd2",
   "metadata": {},
   "outputs": [
    {
     "data": {
      "text/plain": [
       "1    516357\n",
       "0    516357\n",
       "Name: Phishing Status, dtype: int64"
      ]
     },
     "execution_count": 29,
     "metadata": {},
     "output_type": "execute_result"
    }
   ],
   "source": [
    "y.value_counts()"
   ]
  },
  {
   "cell_type": "code",
   "execution_count": null,
   "id": "c6b9a271",
   "metadata": {},
   "outputs": [],
   "source": []
  },
  {
   "cell_type": "markdown",
   "id": "eeb29ceb",
   "metadata": {},
   "source": [
    "# Near Miss for UnderSample"
   ]
  },
  {
   "cell_type": "code",
   "execution_count": 30,
   "id": "bee7e369",
   "metadata": {},
   "outputs": [],
   "source": [
    "x1 = df.drop('Phishing Status', axis= 1)\n",
    "y1 = df['Phishing Status']"
   ]
  },
  {
   "cell_type": "code",
   "execution_count": 31,
   "id": "6b77f193",
   "metadata": {},
   "outputs": [],
   "source": [
    "nms = NearMiss() "
   ]
  },
  {
   "cell_type": "code",
   "execution_count": 32,
   "id": "c44e0a1c",
   "metadata": {},
   "outputs": [],
   "source": [
    "N_x , N_y = nms.fit_resample(x1,y1)"
   ]
  },
  {
   "cell_type": "code",
   "execution_count": 33,
   "id": "2dc4539b",
   "metadata": {},
   "outputs": [
    {
     "data": {
      "text/plain": [
       "(16704, 21)"
      ]
     },
     "execution_count": 33,
     "metadata": {},
     "output_type": "execute_result"
    }
   ],
   "source": [
    "N_x.shape"
   ]
  },
  {
   "cell_type": "code",
   "execution_count": 34,
   "id": "fc10305a",
   "metadata": {},
   "outputs": [
    {
     "data": {
      "text/plain": [
       "(16704,)"
      ]
     },
     "execution_count": 34,
     "metadata": {},
     "output_type": "execute_result"
    }
   ],
   "source": [
    "N_y.shape"
   ]
  },
  {
   "cell_type": "code",
   "execution_count": 35,
   "id": "d6a3eedb",
   "metadata": {},
   "outputs": [
    {
     "data": {
      "text/plain": [
       "0    8352\n",
       "1    8352\n",
       "Name: Phishing Status, dtype: int64"
      ]
     },
     "execution_count": 35,
     "metadata": {},
     "output_type": "execute_result"
    }
   ],
   "source": [
    "N_y.value_counts()"
   ]
  },
  {
   "cell_type": "markdown",
   "id": "0999a9d9",
   "metadata": {},
   "source": [
    "# RandomOverSample"
   ]
  },
  {
   "cell_type": "code",
   "execution_count": 36,
   "id": "29238898",
   "metadata": {},
   "outputs": [],
   "source": [
    "ros = RandomOverSampler(random_state= 100)"
   ]
  },
  {
   "cell_type": "code",
   "execution_count": 37,
   "id": "54314994",
   "metadata": {},
   "outputs": [],
   "source": [
    "R_x,R_y = ros.fit_resample(x1,y1)"
   ]
  },
  {
   "cell_type": "code",
   "execution_count": 38,
   "id": "638d0657",
   "metadata": {},
   "outputs": [
    {
     "data": {
      "text/plain": [
       "(1034804, 21)"
      ]
     },
     "execution_count": 38,
     "metadata": {},
     "output_type": "execute_result"
    }
   ],
   "source": [
    "R_x.shape"
   ]
  },
  {
   "cell_type": "code",
   "execution_count": 39,
   "id": "a0c82ccb",
   "metadata": {},
   "outputs": [
    {
     "data": {
      "text/plain": [
       "(1034804,)"
      ]
     },
     "execution_count": 39,
     "metadata": {},
     "output_type": "execute_result"
    }
   ],
   "source": [
    "R_y.shape"
   ]
  },
  {
   "cell_type": "code",
   "execution_count": 40,
   "id": "32503422",
   "metadata": {},
   "outputs": [
    {
     "data": {
      "text/plain": [
       "1    517402\n",
       "0    517402\n",
       "Name: Phishing Status, dtype: int64"
      ]
     },
     "execution_count": 40,
     "metadata": {},
     "output_type": "execute_result"
    }
   ],
   "source": [
    "R_y.value_counts()"
   ]
  },
  {
   "cell_type": "markdown",
   "id": "ced6ad51",
   "metadata": {},
   "source": [
    "# CROSS validation \n",
    "### Hold Out cross validation"
   ]
  },
  {
   "cell_type": "code",
   "execution_count": 41,
   "id": "2583093d",
   "metadata": {},
   "outputs": [],
   "source": [
    "x2 = df.drop('Phishing Status', axis= 1)\n",
    "y2 = df['Phishing Status']"
   ]
  },
  {
   "cell_type": "code",
   "execution_count": 42,
   "id": "1d38f653",
   "metadata": {},
   "outputs": [],
   "source": [
    "xtrain,xtest, ytrain,ytest = train_test_split(x2, y2, train_size=.75,random_state=42) "
   ]
  },
  {
   "cell_type": "markdown",
   "id": "9a1183d7",
   "metadata": {},
   "source": [
    "#### DecisionTreeClassifier()"
   ]
  },
  {
   "cell_type": "code",
   "execution_count": 43,
   "id": "0a2c87af",
   "metadata": {},
   "outputs": [],
   "source": [
    "Clf = DecisionTreeClassifier() "
   ]
  },
  {
   "cell_type": "code",
   "execution_count": 44,
   "id": "d7223362",
   "metadata": {},
   "outputs": [
    {
     "data": {
      "text/html": [
       "<style>#sk-container-id-1 {color: black;background-color: white;}#sk-container-id-1 pre{padding: 0;}#sk-container-id-1 div.sk-toggleable {background-color: white;}#sk-container-id-1 label.sk-toggleable__label {cursor: pointer;display: block;width: 100%;margin-bottom: 0;padding: 0.3em;box-sizing: border-box;text-align: center;}#sk-container-id-1 label.sk-toggleable__label-arrow:before {content: \"▸\";float: left;margin-right: 0.25em;color: #696969;}#sk-container-id-1 label.sk-toggleable__label-arrow:hover:before {color: black;}#sk-container-id-1 div.sk-estimator:hover label.sk-toggleable__label-arrow:before {color: black;}#sk-container-id-1 div.sk-toggleable__content {max-height: 0;max-width: 0;overflow: hidden;text-align: left;background-color: #f0f8ff;}#sk-container-id-1 div.sk-toggleable__content pre {margin: 0.2em;color: black;border-radius: 0.25em;background-color: #f0f8ff;}#sk-container-id-1 input.sk-toggleable__control:checked~div.sk-toggleable__content {max-height: 200px;max-width: 100%;overflow: auto;}#sk-container-id-1 input.sk-toggleable__control:checked~label.sk-toggleable__label-arrow:before {content: \"▾\";}#sk-container-id-1 div.sk-estimator input.sk-toggleable__control:checked~label.sk-toggleable__label {background-color: #d4ebff;}#sk-container-id-1 div.sk-label input.sk-toggleable__control:checked~label.sk-toggleable__label {background-color: #d4ebff;}#sk-container-id-1 input.sk-hidden--visually {border: 0;clip: rect(1px 1px 1px 1px);clip: rect(1px, 1px, 1px, 1px);height: 1px;margin: -1px;overflow: hidden;padding: 0;position: absolute;width: 1px;}#sk-container-id-1 div.sk-estimator {font-family: monospace;background-color: #f0f8ff;border: 1px dotted black;border-radius: 0.25em;box-sizing: border-box;margin-bottom: 0.5em;}#sk-container-id-1 div.sk-estimator:hover {background-color: #d4ebff;}#sk-container-id-1 div.sk-parallel-item::after {content: \"\";width: 100%;border-bottom: 1px solid gray;flex-grow: 1;}#sk-container-id-1 div.sk-label:hover label.sk-toggleable__label {background-color: #d4ebff;}#sk-container-id-1 div.sk-serial::before {content: \"\";position: absolute;border-left: 1px solid gray;box-sizing: border-box;top: 0;bottom: 0;left: 50%;z-index: 0;}#sk-container-id-1 div.sk-serial {display: flex;flex-direction: column;align-items: center;background-color: white;padding-right: 0.2em;padding-left: 0.2em;position: relative;}#sk-container-id-1 div.sk-item {position: relative;z-index: 1;}#sk-container-id-1 div.sk-parallel {display: flex;align-items: stretch;justify-content: center;background-color: white;position: relative;}#sk-container-id-1 div.sk-item::before, #sk-container-id-1 div.sk-parallel-item::before {content: \"\";position: absolute;border-left: 1px solid gray;box-sizing: border-box;top: 0;bottom: 0;left: 50%;z-index: -1;}#sk-container-id-1 div.sk-parallel-item {display: flex;flex-direction: column;z-index: 1;position: relative;background-color: white;}#sk-container-id-1 div.sk-parallel-item:first-child::after {align-self: flex-end;width: 50%;}#sk-container-id-1 div.sk-parallel-item:last-child::after {align-self: flex-start;width: 50%;}#sk-container-id-1 div.sk-parallel-item:only-child::after {width: 0;}#sk-container-id-1 div.sk-dashed-wrapped {border: 1px dashed gray;margin: 0 0.4em 0.5em 0.4em;box-sizing: border-box;padding-bottom: 0.4em;background-color: white;}#sk-container-id-1 div.sk-label label {font-family: monospace;font-weight: bold;display: inline-block;line-height: 1.2em;}#sk-container-id-1 div.sk-label-container {text-align: center;}#sk-container-id-1 div.sk-container {/* jupyter's `normalize.less` sets `[hidden] { display: none; }` but bootstrap.min.css set `[hidden] { display: none !important; }` so we also need the `!important` here to be able to override the default hidden behavior on the sphinx rendered scikit-learn.org. See: https://github.com/scikit-learn/scikit-learn/issues/21755 */display: inline-block !important;position: relative;}#sk-container-id-1 div.sk-text-repr-fallback {display: none;}</style><div id=\"sk-container-id-1\" class=\"sk-top-container\"><div class=\"sk-text-repr-fallback\"><pre>DecisionTreeClassifier()</pre><b>In a Jupyter environment, please rerun this cell to show the HTML representation or trust the notebook. <br />On GitHub, the HTML representation is unable to render, please try loading this page with nbviewer.org.</b></div><div class=\"sk-container\" hidden><div class=\"sk-item\"><div class=\"sk-estimator sk-toggleable\"><input class=\"sk-toggleable__control sk-hidden--visually\" id=\"sk-estimator-id-1\" type=\"checkbox\" checked><label for=\"sk-estimator-id-1\" class=\"sk-toggleable__label sk-toggleable__label-arrow\">DecisionTreeClassifier</label><div class=\"sk-toggleable__content\"><pre>DecisionTreeClassifier()</pre></div></div></div></div></div>"
      ],
      "text/plain": [
       "DecisionTreeClassifier()"
      ]
     },
     "execution_count": 44,
     "metadata": {},
     "output_type": "execute_result"
    }
   ],
   "source": [
    "Clf.fit(xtrain, ytrain)"
   ]
  },
  {
   "cell_type": "code",
   "execution_count": 45,
   "id": "5e17c522",
   "metadata": {},
   "outputs": [
    {
     "data": {
      "text/plain": [
       "0.9929701230228472"
      ]
     },
     "execution_count": 45,
     "metadata": {},
     "output_type": "execute_result"
    }
   ],
   "source": [
    "Clf.score(xtest,ytest)"
   ]
  },
  {
   "cell_type": "markdown",
   "id": "b05e6520",
   "metadata": {},
   "source": [
    "### Sampling"
   ]
  },
  {
   "cell_type": "markdown",
   "id": "0888fb39",
   "metadata": {},
   "source": [
    "##### SMOS data"
   ]
  },
  {
   "cell_type": "code",
   "execution_count": 46,
   "id": "2ba4afb7",
   "metadata": {},
   "outputs": [],
   "source": [
    "x_train,x_test, y_train,y_test = train_test_split(x, y, train_size=.75,random_state=42) "
   ]
  },
  {
   "cell_type": "code",
   "execution_count": 47,
   "id": "ef0d8715",
   "metadata": {},
   "outputs": [],
   "source": [
    "S_Clf = DecisionTreeClassifier() "
   ]
  },
  {
   "cell_type": "code",
   "execution_count": 48,
   "id": "9a41b1c6",
   "metadata": {},
   "outputs": [
    {
     "data": {
      "text/html": [
       "<style>#sk-container-id-2 {color: black;background-color: white;}#sk-container-id-2 pre{padding: 0;}#sk-container-id-2 div.sk-toggleable {background-color: white;}#sk-container-id-2 label.sk-toggleable__label {cursor: pointer;display: block;width: 100%;margin-bottom: 0;padding: 0.3em;box-sizing: border-box;text-align: center;}#sk-container-id-2 label.sk-toggleable__label-arrow:before {content: \"▸\";float: left;margin-right: 0.25em;color: #696969;}#sk-container-id-2 label.sk-toggleable__label-arrow:hover:before {color: black;}#sk-container-id-2 div.sk-estimator:hover label.sk-toggleable__label-arrow:before {color: black;}#sk-container-id-2 div.sk-toggleable__content {max-height: 0;max-width: 0;overflow: hidden;text-align: left;background-color: #f0f8ff;}#sk-container-id-2 div.sk-toggleable__content pre {margin: 0.2em;color: black;border-radius: 0.25em;background-color: #f0f8ff;}#sk-container-id-2 input.sk-toggleable__control:checked~div.sk-toggleable__content {max-height: 200px;max-width: 100%;overflow: auto;}#sk-container-id-2 input.sk-toggleable__control:checked~label.sk-toggleable__label-arrow:before {content: \"▾\";}#sk-container-id-2 div.sk-estimator input.sk-toggleable__control:checked~label.sk-toggleable__label {background-color: #d4ebff;}#sk-container-id-2 div.sk-label input.sk-toggleable__control:checked~label.sk-toggleable__label {background-color: #d4ebff;}#sk-container-id-2 input.sk-hidden--visually {border: 0;clip: rect(1px 1px 1px 1px);clip: rect(1px, 1px, 1px, 1px);height: 1px;margin: -1px;overflow: hidden;padding: 0;position: absolute;width: 1px;}#sk-container-id-2 div.sk-estimator {font-family: monospace;background-color: #f0f8ff;border: 1px dotted black;border-radius: 0.25em;box-sizing: border-box;margin-bottom: 0.5em;}#sk-container-id-2 div.sk-estimator:hover {background-color: #d4ebff;}#sk-container-id-2 div.sk-parallel-item::after {content: \"\";width: 100%;border-bottom: 1px solid gray;flex-grow: 1;}#sk-container-id-2 div.sk-label:hover label.sk-toggleable__label {background-color: #d4ebff;}#sk-container-id-2 div.sk-serial::before {content: \"\";position: absolute;border-left: 1px solid gray;box-sizing: border-box;top: 0;bottom: 0;left: 50%;z-index: 0;}#sk-container-id-2 div.sk-serial {display: flex;flex-direction: column;align-items: center;background-color: white;padding-right: 0.2em;padding-left: 0.2em;position: relative;}#sk-container-id-2 div.sk-item {position: relative;z-index: 1;}#sk-container-id-2 div.sk-parallel {display: flex;align-items: stretch;justify-content: center;background-color: white;position: relative;}#sk-container-id-2 div.sk-item::before, #sk-container-id-2 div.sk-parallel-item::before {content: \"\";position: absolute;border-left: 1px solid gray;box-sizing: border-box;top: 0;bottom: 0;left: 50%;z-index: -1;}#sk-container-id-2 div.sk-parallel-item {display: flex;flex-direction: column;z-index: 1;position: relative;background-color: white;}#sk-container-id-2 div.sk-parallel-item:first-child::after {align-self: flex-end;width: 50%;}#sk-container-id-2 div.sk-parallel-item:last-child::after {align-self: flex-start;width: 50%;}#sk-container-id-2 div.sk-parallel-item:only-child::after {width: 0;}#sk-container-id-2 div.sk-dashed-wrapped {border: 1px dashed gray;margin: 0 0.4em 0.5em 0.4em;box-sizing: border-box;padding-bottom: 0.4em;background-color: white;}#sk-container-id-2 div.sk-label label {font-family: monospace;font-weight: bold;display: inline-block;line-height: 1.2em;}#sk-container-id-2 div.sk-label-container {text-align: center;}#sk-container-id-2 div.sk-container {/* jupyter's `normalize.less` sets `[hidden] { display: none; }` but bootstrap.min.css set `[hidden] { display: none !important; }` so we also need the `!important` here to be able to override the default hidden behavior on the sphinx rendered scikit-learn.org. See: https://github.com/scikit-learn/scikit-learn/issues/21755 */display: inline-block !important;position: relative;}#sk-container-id-2 div.sk-text-repr-fallback {display: none;}</style><div id=\"sk-container-id-2\" class=\"sk-top-container\"><div class=\"sk-text-repr-fallback\"><pre>DecisionTreeClassifier()</pre><b>In a Jupyter environment, please rerun this cell to show the HTML representation or trust the notebook. <br />On GitHub, the HTML representation is unable to render, please try loading this page with nbviewer.org.</b></div><div class=\"sk-container\" hidden><div class=\"sk-item\"><div class=\"sk-estimator sk-toggleable\"><input class=\"sk-toggleable__control sk-hidden--visually\" id=\"sk-estimator-id-2\" type=\"checkbox\" checked><label for=\"sk-estimator-id-2\" class=\"sk-toggleable__label sk-toggleable__label-arrow\">DecisionTreeClassifier</label><div class=\"sk-toggleable__content\"><pre>DecisionTreeClassifier()</pre></div></div></div></div></div>"
      ],
      "text/plain": [
       "DecisionTreeClassifier()"
      ]
     },
     "execution_count": 48,
     "metadata": {},
     "output_type": "execute_result"
    }
   ],
   "source": [
    "S_Clf.fit(x_train,y_train)"
   ]
  },
  {
   "cell_type": "code",
   "execution_count": 49,
   "id": "52e982a5",
   "metadata": {},
   "outputs": [
    {
     "data": {
      "text/plain": [
       "0.9999961267082831"
      ]
     },
     "execution_count": 49,
     "metadata": {},
     "output_type": "execute_result"
    }
   ],
   "source": [
    "S_Clf.score(x_train,y_train)"
   ]
  },
  {
   "cell_type": "markdown",
   "id": "745479aa",
   "metadata": {},
   "source": [
    "##### NMUS"
   ]
  },
  {
   "cell_type": "code",
   "execution_count": 50,
   "id": "05002c25",
   "metadata": {},
   "outputs": [],
   "source": [
    "x1_train,x1_test, y1_train,y1_test = train_test_split(N_x , N_y, train_size=.75,random_state=42) "
   ]
  },
  {
   "cell_type": "code",
   "execution_count": 51,
   "id": "21e3694d",
   "metadata": {},
   "outputs": [],
   "source": [
    "N_Clf = DecisionTreeClassifier() "
   ]
  },
  {
   "cell_type": "code",
   "execution_count": 52,
   "id": "eb3d574a",
   "metadata": {},
   "outputs": [
    {
     "data": {
      "text/html": [
       "<style>#sk-container-id-3 {color: black;background-color: white;}#sk-container-id-3 pre{padding: 0;}#sk-container-id-3 div.sk-toggleable {background-color: white;}#sk-container-id-3 label.sk-toggleable__label {cursor: pointer;display: block;width: 100%;margin-bottom: 0;padding: 0.3em;box-sizing: border-box;text-align: center;}#sk-container-id-3 label.sk-toggleable__label-arrow:before {content: \"▸\";float: left;margin-right: 0.25em;color: #696969;}#sk-container-id-3 label.sk-toggleable__label-arrow:hover:before {color: black;}#sk-container-id-3 div.sk-estimator:hover label.sk-toggleable__label-arrow:before {color: black;}#sk-container-id-3 div.sk-toggleable__content {max-height: 0;max-width: 0;overflow: hidden;text-align: left;background-color: #f0f8ff;}#sk-container-id-3 div.sk-toggleable__content pre {margin: 0.2em;color: black;border-radius: 0.25em;background-color: #f0f8ff;}#sk-container-id-3 input.sk-toggleable__control:checked~div.sk-toggleable__content {max-height: 200px;max-width: 100%;overflow: auto;}#sk-container-id-3 input.sk-toggleable__control:checked~label.sk-toggleable__label-arrow:before {content: \"▾\";}#sk-container-id-3 div.sk-estimator input.sk-toggleable__control:checked~label.sk-toggleable__label {background-color: #d4ebff;}#sk-container-id-3 div.sk-label input.sk-toggleable__control:checked~label.sk-toggleable__label {background-color: #d4ebff;}#sk-container-id-3 input.sk-hidden--visually {border: 0;clip: rect(1px 1px 1px 1px);clip: rect(1px, 1px, 1px, 1px);height: 1px;margin: -1px;overflow: hidden;padding: 0;position: absolute;width: 1px;}#sk-container-id-3 div.sk-estimator {font-family: monospace;background-color: #f0f8ff;border: 1px dotted black;border-radius: 0.25em;box-sizing: border-box;margin-bottom: 0.5em;}#sk-container-id-3 div.sk-estimator:hover {background-color: #d4ebff;}#sk-container-id-3 div.sk-parallel-item::after {content: \"\";width: 100%;border-bottom: 1px solid gray;flex-grow: 1;}#sk-container-id-3 div.sk-label:hover label.sk-toggleable__label {background-color: #d4ebff;}#sk-container-id-3 div.sk-serial::before {content: \"\";position: absolute;border-left: 1px solid gray;box-sizing: border-box;top: 0;bottom: 0;left: 50%;z-index: 0;}#sk-container-id-3 div.sk-serial {display: flex;flex-direction: column;align-items: center;background-color: white;padding-right: 0.2em;padding-left: 0.2em;position: relative;}#sk-container-id-3 div.sk-item {position: relative;z-index: 1;}#sk-container-id-3 div.sk-parallel {display: flex;align-items: stretch;justify-content: center;background-color: white;position: relative;}#sk-container-id-3 div.sk-item::before, #sk-container-id-3 div.sk-parallel-item::before {content: \"\";position: absolute;border-left: 1px solid gray;box-sizing: border-box;top: 0;bottom: 0;left: 50%;z-index: -1;}#sk-container-id-3 div.sk-parallel-item {display: flex;flex-direction: column;z-index: 1;position: relative;background-color: white;}#sk-container-id-3 div.sk-parallel-item:first-child::after {align-self: flex-end;width: 50%;}#sk-container-id-3 div.sk-parallel-item:last-child::after {align-self: flex-start;width: 50%;}#sk-container-id-3 div.sk-parallel-item:only-child::after {width: 0;}#sk-container-id-3 div.sk-dashed-wrapped {border: 1px dashed gray;margin: 0 0.4em 0.5em 0.4em;box-sizing: border-box;padding-bottom: 0.4em;background-color: white;}#sk-container-id-3 div.sk-label label {font-family: monospace;font-weight: bold;display: inline-block;line-height: 1.2em;}#sk-container-id-3 div.sk-label-container {text-align: center;}#sk-container-id-3 div.sk-container {/* jupyter's `normalize.less` sets `[hidden] { display: none; }` but bootstrap.min.css set `[hidden] { display: none !important; }` so we also need the `!important` here to be able to override the default hidden behavior on the sphinx rendered scikit-learn.org. See: https://github.com/scikit-learn/scikit-learn/issues/21755 */display: inline-block !important;position: relative;}#sk-container-id-3 div.sk-text-repr-fallback {display: none;}</style><div id=\"sk-container-id-3\" class=\"sk-top-container\"><div class=\"sk-text-repr-fallback\"><pre>DecisionTreeClassifier()</pre><b>In a Jupyter environment, please rerun this cell to show the HTML representation or trust the notebook. <br />On GitHub, the HTML representation is unable to render, please try loading this page with nbviewer.org.</b></div><div class=\"sk-container\" hidden><div class=\"sk-item\"><div class=\"sk-estimator sk-toggleable\"><input class=\"sk-toggleable__control sk-hidden--visually\" id=\"sk-estimator-id-3\" type=\"checkbox\" checked><label for=\"sk-estimator-id-3\" class=\"sk-toggleable__label sk-toggleable__label-arrow\">DecisionTreeClassifier</label><div class=\"sk-toggleable__content\"><pre>DecisionTreeClassifier()</pre></div></div></div></div></div>"
      ],
      "text/plain": [
       "DecisionTreeClassifier()"
      ]
     },
     "execution_count": 52,
     "metadata": {},
     "output_type": "execute_result"
    }
   ],
   "source": [
    "N_Clf.fit(x1_train,y1_train)"
   ]
  },
  {
   "cell_type": "code",
   "execution_count": 53,
   "id": "d7e23277",
   "metadata": {},
   "outputs": [
    {
     "data": {
      "text/plain": [
       "0.9401340996168582"
      ]
     },
     "execution_count": 53,
     "metadata": {},
     "output_type": "execute_result"
    }
   ],
   "source": [
    "N_Clf.score(x1_test,y1_test)"
   ]
  },
  {
   "cell_type": "markdown",
   "id": "9dff38d6",
   "metadata": {},
   "source": [
    "##### ROS"
   ]
  },
  {
   "cell_type": "code",
   "execution_count": 54,
   "id": "685abfac",
   "metadata": {},
   "outputs": [],
   "source": [
    "x2_train,x2_test, y2_train,y2_test = train_test_split(R_x,R_y, train_size=.75,random_state=42) "
   ]
  },
  {
   "cell_type": "code",
   "execution_count": 55,
   "id": "25f2321b",
   "metadata": {},
   "outputs": [],
   "source": [
    "R_Clf = DecisionTreeClassifier() "
   ]
  },
  {
   "cell_type": "code",
   "execution_count": 56,
   "id": "51b0c1fe",
   "metadata": {},
   "outputs": [
    {
     "data": {
      "text/html": [
       "<style>#sk-container-id-4 {color: black;background-color: white;}#sk-container-id-4 pre{padding: 0;}#sk-container-id-4 div.sk-toggleable {background-color: white;}#sk-container-id-4 label.sk-toggleable__label {cursor: pointer;display: block;width: 100%;margin-bottom: 0;padding: 0.3em;box-sizing: border-box;text-align: center;}#sk-container-id-4 label.sk-toggleable__label-arrow:before {content: \"▸\";float: left;margin-right: 0.25em;color: #696969;}#sk-container-id-4 label.sk-toggleable__label-arrow:hover:before {color: black;}#sk-container-id-4 div.sk-estimator:hover label.sk-toggleable__label-arrow:before {color: black;}#sk-container-id-4 div.sk-toggleable__content {max-height: 0;max-width: 0;overflow: hidden;text-align: left;background-color: #f0f8ff;}#sk-container-id-4 div.sk-toggleable__content pre {margin: 0.2em;color: black;border-radius: 0.25em;background-color: #f0f8ff;}#sk-container-id-4 input.sk-toggleable__control:checked~div.sk-toggleable__content {max-height: 200px;max-width: 100%;overflow: auto;}#sk-container-id-4 input.sk-toggleable__control:checked~label.sk-toggleable__label-arrow:before {content: \"▾\";}#sk-container-id-4 div.sk-estimator input.sk-toggleable__control:checked~label.sk-toggleable__label {background-color: #d4ebff;}#sk-container-id-4 div.sk-label input.sk-toggleable__control:checked~label.sk-toggleable__label {background-color: #d4ebff;}#sk-container-id-4 input.sk-hidden--visually {border: 0;clip: rect(1px 1px 1px 1px);clip: rect(1px, 1px, 1px, 1px);height: 1px;margin: -1px;overflow: hidden;padding: 0;position: absolute;width: 1px;}#sk-container-id-4 div.sk-estimator {font-family: monospace;background-color: #f0f8ff;border: 1px dotted black;border-radius: 0.25em;box-sizing: border-box;margin-bottom: 0.5em;}#sk-container-id-4 div.sk-estimator:hover {background-color: #d4ebff;}#sk-container-id-4 div.sk-parallel-item::after {content: \"\";width: 100%;border-bottom: 1px solid gray;flex-grow: 1;}#sk-container-id-4 div.sk-label:hover label.sk-toggleable__label {background-color: #d4ebff;}#sk-container-id-4 div.sk-serial::before {content: \"\";position: absolute;border-left: 1px solid gray;box-sizing: border-box;top: 0;bottom: 0;left: 50%;z-index: 0;}#sk-container-id-4 div.sk-serial {display: flex;flex-direction: column;align-items: center;background-color: white;padding-right: 0.2em;padding-left: 0.2em;position: relative;}#sk-container-id-4 div.sk-item {position: relative;z-index: 1;}#sk-container-id-4 div.sk-parallel {display: flex;align-items: stretch;justify-content: center;background-color: white;position: relative;}#sk-container-id-4 div.sk-item::before, #sk-container-id-4 div.sk-parallel-item::before {content: \"\";position: absolute;border-left: 1px solid gray;box-sizing: border-box;top: 0;bottom: 0;left: 50%;z-index: -1;}#sk-container-id-4 div.sk-parallel-item {display: flex;flex-direction: column;z-index: 1;position: relative;background-color: white;}#sk-container-id-4 div.sk-parallel-item:first-child::after {align-self: flex-end;width: 50%;}#sk-container-id-4 div.sk-parallel-item:last-child::after {align-self: flex-start;width: 50%;}#sk-container-id-4 div.sk-parallel-item:only-child::after {width: 0;}#sk-container-id-4 div.sk-dashed-wrapped {border: 1px dashed gray;margin: 0 0.4em 0.5em 0.4em;box-sizing: border-box;padding-bottom: 0.4em;background-color: white;}#sk-container-id-4 div.sk-label label {font-family: monospace;font-weight: bold;display: inline-block;line-height: 1.2em;}#sk-container-id-4 div.sk-label-container {text-align: center;}#sk-container-id-4 div.sk-container {/* jupyter's `normalize.less` sets `[hidden] { display: none; }` but bootstrap.min.css set `[hidden] { display: none !important; }` so we also need the `!important` here to be able to override the default hidden behavior on the sphinx rendered scikit-learn.org. See: https://github.com/scikit-learn/scikit-learn/issues/21755 */display: inline-block !important;position: relative;}#sk-container-id-4 div.sk-text-repr-fallback {display: none;}</style><div id=\"sk-container-id-4\" class=\"sk-top-container\"><div class=\"sk-text-repr-fallback\"><pre>DecisionTreeClassifier()</pre><b>In a Jupyter environment, please rerun this cell to show the HTML representation or trust the notebook. <br />On GitHub, the HTML representation is unable to render, please try loading this page with nbviewer.org.</b></div><div class=\"sk-container\" hidden><div class=\"sk-item\"><div class=\"sk-estimator sk-toggleable\"><input class=\"sk-toggleable__control sk-hidden--visually\" id=\"sk-estimator-id-4\" type=\"checkbox\" checked><label for=\"sk-estimator-id-4\" class=\"sk-toggleable__label sk-toggleable__label-arrow\">DecisionTreeClassifier</label><div class=\"sk-toggleable__content\"><pre>DecisionTreeClassifier()</pre></div></div></div></div></div>"
      ],
      "text/plain": [
       "DecisionTreeClassifier()"
      ]
     },
     "execution_count": 56,
     "metadata": {},
     "output_type": "execute_result"
    }
   ],
   "source": [
    "R_Clf.fit(x2_train,y2_train)"
   ]
  },
  {
   "cell_type": "code",
   "execution_count": 57,
   "id": "861267c1",
   "metadata": {},
   "outputs": [
    {
     "data": {
      "text/plain": [
       "0.9980054193837674"
      ]
     },
     "execution_count": 57,
     "metadata": {},
     "output_type": "execute_result"
    }
   ],
   "source": [
    "R_Clf.score(x2_test,y2_test)"
   ]
  },
  {
   "cell_type": "markdown",
   "id": "60da031e",
   "metadata": {},
   "source": [
    "## XGBoost Classifier"
   ]
  },
  {
   "cell_type": "code",
   "execution_count": 58,
   "id": "c1a84b78",
   "metadata": {},
   "outputs": [],
   "source": [
    "xgb = XGBClassifier()"
   ]
  },
  {
   "cell_type": "code",
   "execution_count": 59,
   "id": "13345d67",
   "metadata": {},
   "outputs": [],
   "source": [
    "xgb_s = XGBClassifier()"
   ]
  },
  {
   "cell_type": "code",
   "execution_count": 60,
   "id": "2eb8b147",
   "metadata": {},
   "outputs": [],
   "source": [
    "xgb_n = XGBClassifier()"
   ]
  },
  {
   "cell_type": "code",
   "execution_count": 61,
   "id": "10072531",
   "metadata": {},
   "outputs": [],
   "source": [
    "xgb_r = XGBClassifier()"
   ]
  },
  {
   "cell_type": "code",
   "execution_count": null,
   "id": "d8aa43e9",
   "metadata": {},
   "outputs": [],
   "source": []
  },
  {
   "cell_type": "code",
   "execution_count": 62,
   "id": "f6cb1573",
   "metadata": {},
   "outputs": [
    {
     "data": {
      "text/html": [
       "<style>#sk-container-id-5 {color: black;background-color: white;}#sk-container-id-5 pre{padding: 0;}#sk-container-id-5 div.sk-toggleable {background-color: white;}#sk-container-id-5 label.sk-toggleable__label {cursor: pointer;display: block;width: 100%;margin-bottom: 0;padding: 0.3em;box-sizing: border-box;text-align: center;}#sk-container-id-5 label.sk-toggleable__label-arrow:before {content: \"▸\";float: left;margin-right: 0.25em;color: #696969;}#sk-container-id-5 label.sk-toggleable__label-arrow:hover:before {color: black;}#sk-container-id-5 div.sk-estimator:hover label.sk-toggleable__label-arrow:before {color: black;}#sk-container-id-5 div.sk-toggleable__content {max-height: 0;max-width: 0;overflow: hidden;text-align: left;background-color: #f0f8ff;}#sk-container-id-5 div.sk-toggleable__content pre {margin: 0.2em;color: black;border-radius: 0.25em;background-color: #f0f8ff;}#sk-container-id-5 input.sk-toggleable__control:checked~div.sk-toggleable__content {max-height: 200px;max-width: 100%;overflow: auto;}#sk-container-id-5 input.sk-toggleable__control:checked~label.sk-toggleable__label-arrow:before {content: \"▾\";}#sk-container-id-5 div.sk-estimator input.sk-toggleable__control:checked~label.sk-toggleable__label {background-color: #d4ebff;}#sk-container-id-5 div.sk-label input.sk-toggleable__control:checked~label.sk-toggleable__label {background-color: #d4ebff;}#sk-container-id-5 input.sk-hidden--visually {border: 0;clip: rect(1px 1px 1px 1px);clip: rect(1px, 1px, 1px, 1px);height: 1px;margin: -1px;overflow: hidden;padding: 0;position: absolute;width: 1px;}#sk-container-id-5 div.sk-estimator {font-family: monospace;background-color: #f0f8ff;border: 1px dotted black;border-radius: 0.25em;box-sizing: border-box;margin-bottom: 0.5em;}#sk-container-id-5 div.sk-estimator:hover {background-color: #d4ebff;}#sk-container-id-5 div.sk-parallel-item::after {content: \"\";width: 100%;border-bottom: 1px solid gray;flex-grow: 1;}#sk-container-id-5 div.sk-label:hover label.sk-toggleable__label {background-color: #d4ebff;}#sk-container-id-5 div.sk-serial::before {content: \"\";position: absolute;border-left: 1px solid gray;box-sizing: border-box;top: 0;bottom: 0;left: 50%;z-index: 0;}#sk-container-id-5 div.sk-serial {display: flex;flex-direction: column;align-items: center;background-color: white;padding-right: 0.2em;padding-left: 0.2em;position: relative;}#sk-container-id-5 div.sk-item {position: relative;z-index: 1;}#sk-container-id-5 div.sk-parallel {display: flex;align-items: stretch;justify-content: center;background-color: white;position: relative;}#sk-container-id-5 div.sk-item::before, #sk-container-id-5 div.sk-parallel-item::before {content: \"\";position: absolute;border-left: 1px solid gray;box-sizing: border-box;top: 0;bottom: 0;left: 50%;z-index: -1;}#sk-container-id-5 div.sk-parallel-item {display: flex;flex-direction: column;z-index: 1;position: relative;background-color: white;}#sk-container-id-5 div.sk-parallel-item:first-child::after {align-self: flex-end;width: 50%;}#sk-container-id-5 div.sk-parallel-item:last-child::after {align-self: flex-start;width: 50%;}#sk-container-id-5 div.sk-parallel-item:only-child::after {width: 0;}#sk-container-id-5 div.sk-dashed-wrapped {border: 1px dashed gray;margin: 0 0.4em 0.5em 0.4em;box-sizing: border-box;padding-bottom: 0.4em;background-color: white;}#sk-container-id-5 div.sk-label label {font-family: monospace;font-weight: bold;display: inline-block;line-height: 1.2em;}#sk-container-id-5 div.sk-label-container {text-align: center;}#sk-container-id-5 div.sk-container {/* jupyter's `normalize.less` sets `[hidden] { display: none; }` but bootstrap.min.css set `[hidden] { display: none !important; }` so we also need the `!important` here to be able to override the default hidden behavior on the sphinx rendered scikit-learn.org. See: https://github.com/scikit-learn/scikit-learn/issues/21755 */display: inline-block !important;position: relative;}#sk-container-id-5 div.sk-text-repr-fallback {display: none;}</style><div id=\"sk-container-id-5\" class=\"sk-top-container\"><div class=\"sk-text-repr-fallback\"><pre>XGBClassifier(base_score=0.5, booster=&#x27;gbtree&#x27;, callbacks=None,\n",
       "              colsample_bylevel=1, colsample_bynode=1, colsample_bytree=1,\n",
       "              early_stopping_rounds=None, enable_categorical=False,\n",
       "              eval_metric=None, gamma=0, gpu_id=-1, grow_policy=&#x27;depthwise&#x27;,\n",
       "              importance_type=None, interaction_constraints=&#x27;&#x27;,\n",
       "              learning_rate=0.300000012, max_bin=256, max_cat_to_onehot=4,\n",
       "              max_delta_step=0, max_depth=6, max_leaves=0, min_child_weight=1,\n",
       "              missing=nan, monotone_constraints=&#x27;()&#x27;, n_estimators=100,\n",
       "              n_jobs=0, num_parallel_tree=1, predictor=&#x27;auto&#x27;, random_state=0,\n",
       "              reg_alpha=0, reg_lambda=1, ...)</pre><b>In a Jupyter environment, please rerun this cell to show the HTML representation or trust the notebook. <br />On GitHub, the HTML representation is unable to render, please try loading this page with nbviewer.org.</b></div><div class=\"sk-container\" hidden><div class=\"sk-item\"><div class=\"sk-estimator sk-toggleable\"><input class=\"sk-toggleable__control sk-hidden--visually\" id=\"sk-estimator-id-5\" type=\"checkbox\" checked><label for=\"sk-estimator-id-5\" class=\"sk-toggleable__label sk-toggleable__label-arrow\">XGBClassifier</label><div class=\"sk-toggleable__content\"><pre>XGBClassifier(base_score=0.5, booster=&#x27;gbtree&#x27;, callbacks=None,\n",
       "              colsample_bylevel=1, colsample_bynode=1, colsample_bytree=1,\n",
       "              early_stopping_rounds=None, enable_categorical=False,\n",
       "              eval_metric=None, gamma=0, gpu_id=-1, grow_policy=&#x27;depthwise&#x27;,\n",
       "              importance_type=None, interaction_constraints=&#x27;&#x27;,\n",
       "              learning_rate=0.300000012, max_bin=256, max_cat_to_onehot=4,\n",
       "              max_delta_step=0, max_depth=6, max_leaves=0, min_child_weight=1,\n",
       "              missing=nan, monotone_constraints=&#x27;()&#x27;, n_estimators=100,\n",
       "              n_jobs=0, num_parallel_tree=1, predictor=&#x27;auto&#x27;, random_state=0,\n",
       "              reg_alpha=0, reg_lambda=1, ...)</pre></div></div></div></div></div>"
      ],
      "text/plain": [
       "XGBClassifier(base_score=0.5, booster='gbtree', callbacks=None,\n",
       "              colsample_bylevel=1, colsample_bynode=1, colsample_bytree=1,\n",
       "              early_stopping_rounds=None, enable_categorical=False,\n",
       "              eval_metric=None, gamma=0, gpu_id=-1, grow_policy='depthwise',\n",
       "              importance_type=None, interaction_constraints='',\n",
       "              learning_rate=0.300000012, max_bin=256, max_cat_to_onehot=4,\n",
       "              max_delta_step=0, max_depth=6, max_leaves=0, min_child_weight=1,\n",
       "              missing=nan, monotone_constraints='()', n_estimators=100,\n",
       "              n_jobs=0, num_parallel_tree=1, predictor='auto', random_state=0,\n",
       "              reg_alpha=0, reg_lambda=1, ...)"
      ]
     },
     "execution_count": 62,
     "metadata": {},
     "output_type": "execute_result"
    }
   ],
   "source": [
    "xgb.fit(xtrain,ytrain)"
   ]
  },
  {
   "cell_type": "code",
   "execution_count": 63,
   "id": "b4032468",
   "metadata": {},
   "outputs": [
    {
     "data": {
      "text/plain": [
       "0.9952525506128318"
      ]
     },
     "execution_count": 63,
     "metadata": {},
     "output_type": "execute_result"
    }
   ],
   "source": [
    "xgb.score(xtest,ytest)"
   ]
  },
  {
   "cell_type": "code",
   "execution_count": 64,
   "id": "f7b1b1de",
   "metadata": {},
   "outputs": [
    {
     "data": {
      "text/html": [
       "<style>#sk-container-id-6 {color: black;background-color: white;}#sk-container-id-6 pre{padding: 0;}#sk-container-id-6 div.sk-toggleable {background-color: white;}#sk-container-id-6 label.sk-toggleable__label {cursor: pointer;display: block;width: 100%;margin-bottom: 0;padding: 0.3em;box-sizing: border-box;text-align: center;}#sk-container-id-6 label.sk-toggleable__label-arrow:before {content: \"▸\";float: left;margin-right: 0.25em;color: #696969;}#sk-container-id-6 label.sk-toggleable__label-arrow:hover:before {color: black;}#sk-container-id-6 div.sk-estimator:hover label.sk-toggleable__label-arrow:before {color: black;}#sk-container-id-6 div.sk-toggleable__content {max-height: 0;max-width: 0;overflow: hidden;text-align: left;background-color: #f0f8ff;}#sk-container-id-6 div.sk-toggleable__content pre {margin: 0.2em;color: black;border-radius: 0.25em;background-color: #f0f8ff;}#sk-container-id-6 input.sk-toggleable__control:checked~div.sk-toggleable__content {max-height: 200px;max-width: 100%;overflow: auto;}#sk-container-id-6 input.sk-toggleable__control:checked~label.sk-toggleable__label-arrow:before {content: \"▾\";}#sk-container-id-6 div.sk-estimator input.sk-toggleable__control:checked~label.sk-toggleable__label {background-color: #d4ebff;}#sk-container-id-6 div.sk-label input.sk-toggleable__control:checked~label.sk-toggleable__label {background-color: #d4ebff;}#sk-container-id-6 input.sk-hidden--visually {border: 0;clip: rect(1px 1px 1px 1px);clip: rect(1px, 1px, 1px, 1px);height: 1px;margin: -1px;overflow: hidden;padding: 0;position: absolute;width: 1px;}#sk-container-id-6 div.sk-estimator {font-family: monospace;background-color: #f0f8ff;border: 1px dotted black;border-radius: 0.25em;box-sizing: border-box;margin-bottom: 0.5em;}#sk-container-id-6 div.sk-estimator:hover {background-color: #d4ebff;}#sk-container-id-6 div.sk-parallel-item::after {content: \"\";width: 100%;border-bottom: 1px solid gray;flex-grow: 1;}#sk-container-id-6 div.sk-label:hover label.sk-toggleable__label {background-color: #d4ebff;}#sk-container-id-6 div.sk-serial::before {content: \"\";position: absolute;border-left: 1px solid gray;box-sizing: border-box;top: 0;bottom: 0;left: 50%;z-index: 0;}#sk-container-id-6 div.sk-serial {display: flex;flex-direction: column;align-items: center;background-color: white;padding-right: 0.2em;padding-left: 0.2em;position: relative;}#sk-container-id-6 div.sk-item {position: relative;z-index: 1;}#sk-container-id-6 div.sk-parallel {display: flex;align-items: stretch;justify-content: center;background-color: white;position: relative;}#sk-container-id-6 div.sk-item::before, #sk-container-id-6 div.sk-parallel-item::before {content: \"\";position: absolute;border-left: 1px solid gray;box-sizing: border-box;top: 0;bottom: 0;left: 50%;z-index: -1;}#sk-container-id-6 div.sk-parallel-item {display: flex;flex-direction: column;z-index: 1;position: relative;background-color: white;}#sk-container-id-6 div.sk-parallel-item:first-child::after {align-self: flex-end;width: 50%;}#sk-container-id-6 div.sk-parallel-item:last-child::after {align-self: flex-start;width: 50%;}#sk-container-id-6 div.sk-parallel-item:only-child::after {width: 0;}#sk-container-id-6 div.sk-dashed-wrapped {border: 1px dashed gray;margin: 0 0.4em 0.5em 0.4em;box-sizing: border-box;padding-bottom: 0.4em;background-color: white;}#sk-container-id-6 div.sk-label label {font-family: monospace;font-weight: bold;display: inline-block;line-height: 1.2em;}#sk-container-id-6 div.sk-label-container {text-align: center;}#sk-container-id-6 div.sk-container {/* jupyter's `normalize.less` sets `[hidden] { display: none; }` but bootstrap.min.css set `[hidden] { display: none !important; }` so we also need the `!important` here to be able to override the default hidden behavior on the sphinx rendered scikit-learn.org. See: https://github.com/scikit-learn/scikit-learn/issues/21755 */display: inline-block !important;position: relative;}#sk-container-id-6 div.sk-text-repr-fallback {display: none;}</style><div id=\"sk-container-id-6\" class=\"sk-top-container\"><div class=\"sk-text-repr-fallback\"><pre>XGBClassifier(base_score=0.5, booster=&#x27;gbtree&#x27;, callbacks=None,\n",
       "              colsample_bylevel=1, colsample_bynode=1, colsample_bytree=1,\n",
       "              early_stopping_rounds=None, enable_categorical=False,\n",
       "              eval_metric=None, gamma=0, gpu_id=-1, grow_policy=&#x27;depthwise&#x27;,\n",
       "              importance_type=None, interaction_constraints=&#x27;&#x27;,\n",
       "              learning_rate=0.300000012, max_bin=256, max_cat_to_onehot=4,\n",
       "              max_delta_step=0, max_depth=6, max_leaves=0, min_child_weight=1,\n",
       "              missing=nan, monotone_constraints=&#x27;()&#x27;, n_estimators=100,\n",
       "              n_jobs=0, num_parallel_tree=1, predictor=&#x27;auto&#x27;, random_state=0,\n",
       "              reg_alpha=0, reg_lambda=1, ...)</pre><b>In a Jupyter environment, please rerun this cell to show the HTML representation or trust the notebook. <br />On GitHub, the HTML representation is unable to render, please try loading this page with nbviewer.org.</b></div><div class=\"sk-container\" hidden><div class=\"sk-item\"><div class=\"sk-estimator sk-toggleable\"><input class=\"sk-toggleable__control sk-hidden--visually\" id=\"sk-estimator-id-6\" type=\"checkbox\" checked><label for=\"sk-estimator-id-6\" class=\"sk-toggleable__label sk-toggleable__label-arrow\">XGBClassifier</label><div class=\"sk-toggleable__content\"><pre>XGBClassifier(base_score=0.5, booster=&#x27;gbtree&#x27;, callbacks=None,\n",
       "              colsample_bylevel=1, colsample_bynode=1, colsample_bytree=1,\n",
       "              early_stopping_rounds=None, enable_categorical=False,\n",
       "              eval_metric=None, gamma=0, gpu_id=-1, grow_policy=&#x27;depthwise&#x27;,\n",
       "              importance_type=None, interaction_constraints=&#x27;&#x27;,\n",
       "              learning_rate=0.300000012, max_bin=256, max_cat_to_onehot=4,\n",
       "              max_delta_step=0, max_depth=6, max_leaves=0, min_child_weight=1,\n",
       "              missing=nan, monotone_constraints=&#x27;()&#x27;, n_estimators=100,\n",
       "              n_jobs=0, num_parallel_tree=1, predictor=&#x27;auto&#x27;, random_state=0,\n",
       "              reg_alpha=0, reg_lambda=1, ...)</pre></div></div></div></div></div>"
      ],
      "text/plain": [
       "XGBClassifier(base_score=0.5, booster='gbtree', callbacks=None,\n",
       "              colsample_bylevel=1, colsample_bynode=1, colsample_bytree=1,\n",
       "              early_stopping_rounds=None, enable_categorical=False,\n",
       "              eval_metric=None, gamma=0, gpu_id=-1, grow_policy='depthwise',\n",
       "              importance_type=None, interaction_constraints='',\n",
       "              learning_rate=0.300000012, max_bin=256, max_cat_to_onehot=4,\n",
       "              max_delta_step=0, max_depth=6, max_leaves=0, min_child_weight=1,\n",
       "              missing=nan, monotone_constraints='()', n_estimators=100,\n",
       "              n_jobs=0, num_parallel_tree=1, predictor='auto', random_state=0,\n",
       "              reg_alpha=0, reg_lambda=1, ...)"
      ]
     },
     "execution_count": 64,
     "metadata": {},
     "output_type": "execute_result"
    }
   ],
   "source": [
    "xgb_s.fit(x_train,y_train)"
   ]
  },
  {
   "cell_type": "code",
   "execution_count": 65,
   "id": "9dfdf0df",
   "metadata": {},
   "outputs": [
    {
     "data": {
      "text/plain": [
       "0.9879308541748167"
      ]
     },
     "execution_count": 65,
     "metadata": {},
     "output_type": "execute_result"
    }
   ],
   "source": [
    "xgb_s.score(x_test,y_test)"
   ]
  },
  {
   "cell_type": "code",
   "execution_count": 66,
   "id": "078d3687",
   "metadata": {},
   "outputs": [
    {
     "data": {
      "text/html": [
       "<style>#sk-container-id-7 {color: black;background-color: white;}#sk-container-id-7 pre{padding: 0;}#sk-container-id-7 div.sk-toggleable {background-color: white;}#sk-container-id-7 label.sk-toggleable__label {cursor: pointer;display: block;width: 100%;margin-bottom: 0;padding: 0.3em;box-sizing: border-box;text-align: center;}#sk-container-id-7 label.sk-toggleable__label-arrow:before {content: \"▸\";float: left;margin-right: 0.25em;color: #696969;}#sk-container-id-7 label.sk-toggleable__label-arrow:hover:before {color: black;}#sk-container-id-7 div.sk-estimator:hover label.sk-toggleable__label-arrow:before {color: black;}#sk-container-id-7 div.sk-toggleable__content {max-height: 0;max-width: 0;overflow: hidden;text-align: left;background-color: #f0f8ff;}#sk-container-id-7 div.sk-toggleable__content pre {margin: 0.2em;color: black;border-radius: 0.25em;background-color: #f0f8ff;}#sk-container-id-7 input.sk-toggleable__control:checked~div.sk-toggleable__content {max-height: 200px;max-width: 100%;overflow: auto;}#sk-container-id-7 input.sk-toggleable__control:checked~label.sk-toggleable__label-arrow:before {content: \"▾\";}#sk-container-id-7 div.sk-estimator input.sk-toggleable__control:checked~label.sk-toggleable__label {background-color: #d4ebff;}#sk-container-id-7 div.sk-label input.sk-toggleable__control:checked~label.sk-toggleable__label {background-color: #d4ebff;}#sk-container-id-7 input.sk-hidden--visually {border: 0;clip: rect(1px 1px 1px 1px);clip: rect(1px, 1px, 1px, 1px);height: 1px;margin: -1px;overflow: hidden;padding: 0;position: absolute;width: 1px;}#sk-container-id-7 div.sk-estimator {font-family: monospace;background-color: #f0f8ff;border: 1px dotted black;border-radius: 0.25em;box-sizing: border-box;margin-bottom: 0.5em;}#sk-container-id-7 div.sk-estimator:hover {background-color: #d4ebff;}#sk-container-id-7 div.sk-parallel-item::after {content: \"\";width: 100%;border-bottom: 1px solid gray;flex-grow: 1;}#sk-container-id-7 div.sk-label:hover label.sk-toggleable__label {background-color: #d4ebff;}#sk-container-id-7 div.sk-serial::before {content: \"\";position: absolute;border-left: 1px solid gray;box-sizing: border-box;top: 0;bottom: 0;left: 50%;z-index: 0;}#sk-container-id-7 div.sk-serial {display: flex;flex-direction: column;align-items: center;background-color: white;padding-right: 0.2em;padding-left: 0.2em;position: relative;}#sk-container-id-7 div.sk-item {position: relative;z-index: 1;}#sk-container-id-7 div.sk-parallel {display: flex;align-items: stretch;justify-content: center;background-color: white;position: relative;}#sk-container-id-7 div.sk-item::before, #sk-container-id-7 div.sk-parallel-item::before {content: \"\";position: absolute;border-left: 1px solid gray;box-sizing: border-box;top: 0;bottom: 0;left: 50%;z-index: -1;}#sk-container-id-7 div.sk-parallel-item {display: flex;flex-direction: column;z-index: 1;position: relative;background-color: white;}#sk-container-id-7 div.sk-parallel-item:first-child::after {align-self: flex-end;width: 50%;}#sk-container-id-7 div.sk-parallel-item:last-child::after {align-self: flex-start;width: 50%;}#sk-container-id-7 div.sk-parallel-item:only-child::after {width: 0;}#sk-container-id-7 div.sk-dashed-wrapped {border: 1px dashed gray;margin: 0 0.4em 0.5em 0.4em;box-sizing: border-box;padding-bottom: 0.4em;background-color: white;}#sk-container-id-7 div.sk-label label {font-family: monospace;font-weight: bold;display: inline-block;line-height: 1.2em;}#sk-container-id-7 div.sk-label-container {text-align: center;}#sk-container-id-7 div.sk-container {/* jupyter's `normalize.less` sets `[hidden] { display: none; }` but bootstrap.min.css set `[hidden] { display: none !important; }` so we also need the `!important` here to be able to override the default hidden behavior on the sphinx rendered scikit-learn.org. See: https://github.com/scikit-learn/scikit-learn/issues/21755 */display: inline-block !important;position: relative;}#sk-container-id-7 div.sk-text-repr-fallback {display: none;}</style><div id=\"sk-container-id-7\" class=\"sk-top-container\"><div class=\"sk-text-repr-fallback\"><pre>XGBClassifier(base_score=0.5, booster=&#x27;gbtree&#x27;, callbacks=None,\n",
       "              colsample_bylevel=1, colsample_bynode=1, colsample_bytree=1,\n",
       "              early_stopping_rounds=None, enable_categorical=False,\n",
       "              eval_metric=None, gamma=0, gpu_id=-1, grow_policy=&#x27;depthwise&#x27;,\n",
       "              importance_type=None, interaction_constraints=&#x27;&#x27;,\n",
       "              learning_rate=0.300000012, max_bin=256, max_cat_to_onehot=4,\n",
       "              max_delta_step=0, max_depth=6, max_leaves=0, min_child_weight=1,\n",
       "              missing=nan, monotone_constraints=&#x27;()&#x27;, n_estimators=100,\n",
       "              n_jobs=0, num_parallel_tree=1, predictor=&#x27;auto&#x27;, random_state=0,\n",
       "              reg_alpha=0, reg_lambda=1, ...)</pre><b>In a Jupyter environment, please rerun this cell to show the HTML representation or trust the notebook. <br />On GitHub, the HTML representation is unable to render, please try loading this page with nbviewer.org.</b></div><div class=\"sk-container\" hidden><div class=\"sk-item\"><div class=\"sk-estimator sk-toggleable\"><input class=\"sk-toggleable__control sk-hidden--visually\" id=\"sk-estimator-id-7\" type=\"checkbox\" checked><label for=\"sk-estimator-id-7\" class=\"sk-toggleable__label sk-toggleable__label-arrow\">XGBClassifier</label><div class=\"sk-toggleable__content\"><pre>XGBClassifier(base_score=0.5, booster=&#x27;gbtree&#x27;, callbacks=None,\n",
       "              colsample_bylevel=1, colsample_bynode=1, colsample_bytree=1,\n",
       "              early_stopping_rounds=None, enable_categorical=False,\n",
       "              eval_metric=None, gamma=0, gpu_id=-1, grow_policy=&#x27;depthwise&#x27;,\n",
       "              importance_type=None, interaction_constraints=&#x27;&#x27;,\n",
       "              learning_rate=0.300000012, max_bin=256, max_cat_to_onehot=4,\n",
       "              max_delta_step=0, max_depth=6, max_leaves=0, min_child_weight=1,\n",
       "              missing=nan, monotone_constraints=&#x27;()&#x27;, n_estimators=100,\n",
       "              n_jobs=0, num_parallel_tree=1, predictor=&#x27;auto&#x27;, random_state=0,\n",
       "              reg_alpha=0, reg_lambda=1, ...)</pre></div></div></div></div></div>"
      ],
      "text/plain": [
       "XGBClassifier(base_score=0.5, booster='gbtree', callbacks=None,\n",
       "              colsample_bylevel=1, colsample_bynode=1, colsample_bytree=1,\n",
       "              early_stopping_rounds=None, enable_categorical=False,\n",
       "              eval_metric=None, gamma=0, gpu_id=-1, grow_policy='depthwise',\n",
       "              importance_type=None, interaction_constraints='',\n",
       "              learning_rate=0.300000012, max_bin=256, max_cat_to_onehot=4,\n",
       "              max_delta_step=0, max_depth=6, max_leaves=0, min_child_weight=1,\n",
       "              missing=nan, monotone_constraints='()', n_estimators=100,\n",
       "              n_jobs=0, num_parallel_tree=1, predictor='auto', random_state=0,\n",
       "              reg_alpha=0, reg_lambda=1, ...)"
      ]
     },
     "execution_count": 66,
     "metadata": {},
     "output_type": "execute_result"
    }
   ],
   "source": [
    "xgb_n.fit(x1_train,y1_train)"
   ]
  },
  {
   "cell_type": "code",
   "execution_count": 67,
   "id": "533f409e",
   "metadata": {},
   "outputs": [
    {
     "data": {
      "text/plain": [
       "0.9530651340996169"
      ]
     },
     "execution_count": 67,
     "metadata": {},
     "output_type": "execute_result"
    }
   ],
   "source": [
    "xgb_n.score(x1_test,y1_test)"
   ]
  },
  {
   "cell_type": "code",
   "execution_count": 68,
   "id": "c09ea2a4",
   "metadata": {},
   "outputs": [
    {
     "data": {
      "text/html": [
       "<style>#sk-container-id-8 {color: black;background-color: white;}#sk-container-id-8 pre{padding: 0;}#sk-container-id-8 div.sk-toggleable {background-color: white;}#sk-container-id-8 label.sk-toggleable__label {cursor: pointer;display: block;width: 100%;margin-bottom: 0;padding: 0.3em;box-sizing: border-box;text-align: center;}#sk-container-id-8 label.sk-toggleable__label-arrow:before {content: \"▸\";float: left;margin-right: 0.25em;color: #696969;}#sk-container-id-8 label.sk-toggleable__label-arrow:hover:before {color: black;}#sk-container-id-8 div.sk-estimator:hover label.sk-toggleable__label-arrow:before {color: black;}#sk-container-id-8 div.sk-toggleable__content {max-height: 0;max-width: 0;overflow: hidden;text-align: left;background-color: #f0f8ff;}#sk-container-id-8 div.sk-toggleable__content pre {margin: 0.2em;color: black;border-radius: 0.25em;background-color: #f0f8ff;}#sk-container-id-8 input.sk-toggleable__control:checked~div.sk-toggleable__content {max-height: 200px;max-width: 100%;overflow: auto;}#sk-container-id-8 input.sk-toggleable__control:checked~label.sk-toggleable__label-arrow:before {content: \"▾\";}#sk-container-id-8 div.sk-estimator input.sk-toggleable__control:checked~label.sk-toggleable__label {background-color: #d4ebff;}#sk-container-id-8 div.sk-label input.sk-toggleable__control:checked~label.sk-toggleable__label {background-color: #d4ebff;}#sk-container-id-8 input.sk-hidden--visually {border: 0;clip: rect(1px 1px 1px 1px);clip: rect(1px, 1px, 1px, 1px);height: 1px;margin: -1px;overflow: hidden;padding: 0;position: absolute;width: 1px;}#sk-container-id-8 div.sk-estimator {font-family: monospace;background-color: #f0f8ff;border: 1px dotted black;border-radius: 0.25em;box-sizing: border-box;margin-bottom: 0.5em;}#sk-container-id-8 div.sk-estimator:hover {background-color: #d4ebff;}#sk-container-id-8 div.sk-parallel-item::after {content: \"\";width: 100%;border-bottom: 1px solid gray;flex-grow: 1;}#sk-container-id-8 div.sk-label:hover label.sk-toggleable__label {background-color: #d4ebff;}#sk-container-id-8 div.sk-serial::before {content: \"\";position: absolute;border-left: 1px solid gray;box-sizing: border-box;top: 0;bottom: 0;left: 50%;z-index: 0;}#sk-container-id-8 div.sk-serial {display: flex;flex-direction: column;align-items: center;background-color: white;padding-right: 0.2em;padding-left: 0.2em;position: relative;}#sk-container-id-8 div.sk-item {position: relative;z-index: 1;}#sk-container-id-8 div.sk-parallel {display: flex;align-items: stretch;justify-content: center;background-color: white;position: relative;}#sk-container-id-8 div.sk-item::before, #sk-container-id-8 div.sk-parallel-item::before {content: \"\";position: absolute;border-left: 1px solid gray;box-sizing: border-box;top: 0;bottom: 0;left: 50%;z-index: -1;}#sk-container-id-8 div.sk-parallel-item {display: flex;flex-direction: column;z-index: 1;position: relative;background-color: white;}#sk-container-id-8 div.sk-parallel-item:first-child::after {align-self: flex-end;width: 50%;}#sk-container-id-8 div.sk-parallel-item:last-child::after {align-self: flex-start;width: 50%;}#sk-container-id-8 div.sk-parallel-item:only-child::after {width: 0;}#sk-container-id-8 div.sk-dashed-wrapped {border: 1px dashed gray;margin: 0 0.4em 0.5em 0.4em;box-sizing: border-box;padding-bottom: 0.4em;background-color: white;}#sk-container-id-8 div.sk-label label {font-family: monospace;font-weight: bold;display: inline-block;line-height: 1.2em;}#sk-container-id-8 div.sk-label-container {text-align: center;}#sk-container-id-8 div.sk-container {/* jupyter's `normalize.less` sets `[hidden] { display: none; }` but bootstrap.min.css set `[hidden] { display: none !important; }` so we also need the `!important` here to be able to override the default hidden behavior on the sphinx rendered scikit-learn.org. See: https://github.com/scikit-learn/scikit-learn/issues/21755 */display: inline-block !important;position: relative;}#sk-container-id-8 div.sk-text-repr-fallback {display: none;}</style><div id=\"sk-container-id-8\" class=\"sk-top-container\"><div class=\"sk-text-repr-fallback\"><pre>XGBClassifier(base_score=0.5, booster=&#x27;gbtree&#x27;, callbacks=None,\n",
       "              colsample_bylevel=1, colsample_bynode=1, colsample_bytree=1,\n",
       "              early_stopping_rounds=None, enable_categorical=False,\n",
       "              eval_metric=None, gamma=0, gpu_id=-1, grow_policy=&#x27;depthwise&#x27;,\n",
       "              importance_type=None, interaction_constraints=&#x27;&#x27;,\n",
       "              learning_rate=0.300000012, max_bin=256, max_cat_to_onehot=4,\n",
       "              max_delta_step=0, max_depth=6, max_leaves=0, min_child_weight=1,\n",
       "              missing=nan, monotone_constraints=&#x27;()&#x27;, n_estimators=100,\n",
       "              n_jobs=0, num_parallel_tree=1, predictor=&#x27;auto&#x27;, random_state=0,\n",
       "              reg_alpha=0, reg_lambda=1, ...)</pre><b>In a Jupyter environment, please rerun this cell to show the HTML representation or trust the notebook. <br />On GitHub, the HTML representation is unable to render, please try loading this page with nbviewer.org.</b></div><div class=\"sk-container\" hidden><div class=\"sk-item\"><div class=\"sk-estimator sk-toggleable\"><input class=\"sk-toggleable__control sk-hidden--visually\" id=\"sk-estimator-id-8\" type=\"checkbox\" checked><label for=\"sk-estimator-id-8\" class=\"sk-toggleable__label sk-toggleable__label-arrow\">XGBClassifier</label><div class=\"sk-toggleable__content\"><pre>XGBClassifier(base_score=0.5, booster=&#x27;gbtree&#x27;, callbacks=None,\n",
       "              colsample_bylevel=1, colsample_bynode=1, colsample_bytree=1,\n",
       "              early_stopping_rounds=None, enable_categorical=False,\n",
       "              eval_metric=None, gamma=0, gpu_id=-1, grow_policy=&#x27;depthwise&#x27;,\n",
       "              importance_type=None, interaction_constraints=&#x27;&#x27;,\n",
       "              learning_rate=0.300000012, max_bin=256, max_cat_to_onehot=4,\n",
       "              max_delta_step=0, max_depth=6, max_leaves=0, min_child_weight=1,\n",
       "              missing=nan, monotone_constraints=&#x27;()&#x27;, n_estimators=100,\n",
       "              n_jobs=0, num_parallel_tree=1, predictor=&#x27;auto&#x27;, random_state=0,\n",
       "              reg_alpha=0, reg_lambda=1, ...)</pre></div></div></div></div></div>"
      ],
      "text/plain": [
       "XGBClassifier(base_score=0.5, booster='gbtree', callbacks=None,\n",
       "              colsample_bylevel=1, colsample_bynode=1, colsample_bytree=1,\n",
       "              early_stopping_rounds=None, enable_categorical=False,\n",
       "              eval_metric=None, gamma=0, gpu_id=-1, grow_policy='depthwise',\n",
       "              importance_type=None, interaction_constraints='',\n",
       "              learning_rate=0.300000012, max_bin=256, max_cat_to_onehot=4,\n",
       "              max_delta_step=0, max_depth=6, max_leaves=0, min_child_weight=1,\n",
       "              missing=nan, monotone_constraints='()', n_estimators=100,\n",
       "              n_jobs=0, num_parallel_tree=1, predictor='auto', random_state=0,\n",
       "              reg_alpha=0, reg_lambda=1, ...)"
      ]
     },
     "execution_count": 68,
     "metadata": {},
     "output_type": "execute_result"
    }
   ],
   "source": [
    "xgb_r.fit(x2_train,y2_train)"
   ]
  },
  {
   "cell_type": "code",
   "execution_count": 69,
   "id": "5860d7eb",
   "metadata": {},
   "outputs": [
    {
     "data": {
      "text/plain": [
       "0.9823734736239906"
      ]
     },
     "execution_count": 69,
     "metadata": {},
     "output_type": "execute_result"
    }
   ],
   "source": [
    "xgb_r.score(x2_test,y2_test)"
   ]
  },
  {
   "cell_type": "markdown",
   "id": "342b5b9a",
   "metadata": {},
   "source": [
    "# Ada Boost"
   ]
  },
  {
   "cell_type": "code",
   "execution_count": 70,
   "id": "22bad617",
   "metadata": {},
   "outputs": [],
   "source": [
    "ada = AdaBoostClassifier()"
   ]
  },
  {
   "cell_type": "code",
   "execution_count": 71,
   "id": "56d5dc1b",
   "metadata": {},
   "outputs": [
    {
     "data": {
      "text/html": [
       "<style>#sk-container-id-9 {color: black;background-color: white;}#sk-container-id-9 pre{padding: 0;}#sk-container-id-9 div.sk-toggleable {background-color: white;}#sk-container-id-9 label.sk-toggleable__label {cursor: pointer;display: block;width: 100%;margin-bottom: 0;padding: 0.3em;box-sizing: border-box;text-align: center;}#sk-container-id-9 label.sk-toggleable__label-arrow:before {content: \"▸\";float: left;margin-right: 0.25em;color: #696969;}#sk-container-id-9 label.sk-toggleable__label-arrow:hover:before {color: black;}#sk-container-id-9 div.sk-estimator:hover label.sk-toggleable__label-arrow:before {color: black;}#sk-container-id-9 div.sk-toggleable__content {max-height: 0;max-width: 0;overflow: hidden;text-align: left;background-color: #f0f8ff;}#sk-container-id-9 div.sk-toggleable__content pre {margin: 0.2em;color: black;border-radius: 0.25em;background-color: #f0f8ff;}#sk-container-id-9 input.sk-toggleable__control:checked~div.sk-toggleable__content {max-height: 200px;max-width: 100%;overflow: auto;}#sk-container-id-9 input.sk-toggleable__control:checked~label.sk-toggleable__label-arrow:before {content: \"▾\";}#sk-container-id-9 div.sk-estimator input.sk-toggleable__control:checked~label.sk-toggleable__label {background-color: #d4ebff;}#sk-container-id-9 div.sk-label input.sk-toggleable__control:checked~label.sk-toggleable__label {background-color: #d4ebff;}#sk-container-id-9 input.sk-hidden--visually {border: 0;clip: rect(1px 1px 1px 1px);clip: rect(1px, 1px, 1px, 1px);height: 1px;margin: -1px;overflow: hidden;padding: 0;position: absolute;width: 1px;}#sk-container-id-9 div.sk-estimator {font-family: monospace;background-color: #f0f8ff;border: 1px dotted black;border-radius: 0.25em;box-sizing: border-box;margin-bottom: 0.5em;}#sk-container-id-9 div.sk-estimator:hover {background-color: #d4ebff;}#sk-container-id-9 div.sk-parallel-item::after {content: \"\";width: 100%;border-bottom: 1px solid gray;flex-grow: 1;}#sk-container-id-9 div.sk-label:hover label.sk-toggleable__label {background-color: #d4ebff;}#sk-container-id-9 div.sk-serial::before {content: \"\";position: absolute;border-left: 1px solid gray;box-sizing: border-box;top: 0;bottom: 0;left: 50%;z-index: 0;}#sk-container-id-9 div.sk-serial {display: flex;flex-direction: column;align-items: center;background-color: white;padding-right: 0.2em;padding-left: 0.2em;position: relative;}#sk-container-id-9 div.sk-item {position: relative;z-index: 1;}#sk-container-id-9 div.sk-parallel {display: flex;align-items: stretch;justify-content: center;background-color: white;position: relative;}#sk-container-id-9 div.sk-item::before, #sk-container-id-9 div.sk-parallel-item::before {content: \"\";position: absolute;border-left: 1px solid gray;box-sizing: border-box;top: 0;bottom: 0;left: 50%;z-index: -1;}#sk-container-id-9 div.sk-parallel-item {display: flex;flex-direction: column;z-index: 1;position: relative;background-color: white;}#sk-container-id-9 div.sk-parallel-item:first-child::after {align-self: flex-end;width: 50%;}#sk-container-id-9 div.sk-parallel-item:last-child::after {align-self: flex-start;width: 50%;}#sk-container-id-9 div.sk-parallel-item:only-child::after {width: 0;}#sk-container-id-9 div.sk-dashed-wrapped {border: 1px dashed gray;margin: 0 0.4em 0.5em 0.4em;box-sizing: border-box;padding-bottom: 0.4em;background-color: white;}#sk-container-id-9 div.sk-label label {font-family: monospace;font-weight: bold;display: inline-block;line-height: 1.2em;}#sk-container-id-9 div.sk-label-container {text-align: center;}#sk-container-id-9 div.sk-container {/* jupyter's `normalize.less` sets `[hidden] { display: none; }` but bootstrap.min.css set `[hidden] { display: none !important; }` so we also need the `!important` here to be able to override the default hidden behavior on the sphinx rendered scikit-learn.org. See: https://github.com/scikit-learn/scikit-learn/issues/21755 */display: inline-block !important;position: relative;}#sk-container-id-9 div.sk-text-repr-fallback {display: none;}</style><div id=\"sk-container-id-9\" class=\"sk-top-container\"><div class=\"sk-text-repr-fallback\"><pre>AdaBoostClassifier()</pre><b>In a Jupyter environment, please rerun this cell to show the HTML representation or trust the notebook. <br />On GitHub, the HTML representation is unable to render, please try loading this page with nbviewer.org.</b></div><div class=\"sk-container\" hidden><div class=\"sk-item\"><div class=\"sk-estimator sk-toggleable\"><input class=\"sk-toggleable__control sk-hidden--visually\" id=\"sk-estimator-id-9\" type=\"checkbox\" checked><label for=\"sk-estimator-id-9\" class=\"sk-toggleable__label sk-toggleable__label-arrow\">AdaBoostClassifier</label><div class=\"sk-toggleable__content\"><pre>AdaBoostClassifier()</pre></div></div></div></div></div>"
      ],
      "text/plain": [
       "AdaBoostClassifier()"
      ]
     },
     "execution_count": 71,
     "metadata": {},
     "output_type": "execute_result"
    }
   ],
   "source": [
    "ada.fit(xtrain,ytrain)"
   ]
  },
  {
   "cell_type": "code",
   "execution_count": 72,
   "id": "01afec4d",
   "metadata": {},
   "outputs": [
    {
     "data": {
      "text/plain": [
       "0.9915550179170566"
      ]
     },
     "execution_count": 72,
     "metadata": {},
     "output_type": "execute_result"
    }
   ],
   "source": [
    "ada.score(xtest,ytest)"
   ]
  },
  {
   "cell_type": "code",
   "execution_count": 73,
   "id": "11787ee5",
   "metadata": {},
   "outputs": [],
   "source": [
    "ada_s = AdaBoostClassifier()"
   ]
  },
  {
   "cell_type": "code",
   "execution_count": 74,
   "id": "ca3e9236",
   "metadata": {},
   "outputs": [
    {
     "data": {
      "text/html": [
       "<style>#sk-container-id-10 {color: black;background-color: white;}#sk-container-id-10 pre{padding: 0;}#sk-container-id-10 div.sk-toggleable {background-color: white;}#sk-container-id-10 label.sk-toggleable__label {cursor: pointer;display: block;width: 100%;margin-bottom: 0;padding: 0.3em;box-sizing: border-box;text-align: center;}#sk-container-id-10 label.sk-toggleable__label-arrow:before {content: \"▸\";float: left;margin-right: 0.25em;color: #696969;}#sk-container-id-10 label.sk-toggleable__label-arrow:hover:before {color: black;}#sk-container-id-10 div.sk-estimator:hover label.sk-toggleable__label-arrow:before {color: black;}#sk-container-id-10 div.sk-toggleable__content {max-height: 0;max-width: 0;overflow: hidden;text-align: left;background-color: #f0f8ff;}#sk-container-id-10 div.sk-toggleable__content pre {margin: 0.2em;color: black;border-radius: 0.25em;background-color: #f0f8ff;}#sk-container-id-10 input.sk-toggleable__control:checked~div.sk-toggleable__content {max-height: 200px;max-width: 100%;overflow: auto;}#sk-container-id-10 input.sk-toggleable__control:checked~label.sk-toggleable__label-arrow:before {content: \"▾\";}#sk-container-id-10 div.sk-estimator input.sk-toggleable__control:checked~label.sk-toggleable__label {background-color: #d4ebff;}#sk-container-id-10 div.sk-label input.sk-toggleable__control:checked~label.sk-toggleable__label {background-color: #d4ebff;}#sk-container-id-10 input.sk-hidden--visually {border: 0;clip: rect(1px 1px 1px 1px);clip: rect(1px, 1px, 1px, 1px);height: 1px;margin: -1px;overflow: hidden;padding: 0;position: absolute;width: 1px;}#sk-container-id-10 div.sk-estimator {font-family: monospace;background-color: #f0f8ff;border: 1px dotted black;border-radius: 0.25em;box-sizing: border-box;margin-bottom: 0.5em;}#sk-container-id-10 div.sk-estimator:hover {background-color: #d4ebff;}#sk-container-id-10 div.sk-parallel-item::after {content: \"\";width: 100%;border-bottom: 1px solid gray;flex-grow: 1;}#sk-container-id-10 div.sk-label:hover label.sk-toggleable__label {background-color: #d4ebff;}#sk-container-id-10 div.sk-serial::before {content: \"\";position: absolute;border-left: 1px solid gray;box-sizing: border-box;top: 0;bottom: 0;left: 50%;z-index: 0;}#sk-container-id-10 div.sk-serial {display: flex;flex-direction: column;align-items: center;background-color: white;padding-right: 0.2em;padding-left: 0.2em;position: relative;}#sk-container-id-10 div.sk-item {position: relative;z-index: 1;}#sk-container-id-10 div.sk-parallel {display: flex;align-items: stretch;justify-content: center;background-color: white;position: relative;}#sk-container-id-10 div.sk-item::before, #sk-container-id-10 div.sk-parallel-item::before {content: \"\";position: absolute;border-left: 1px solid gray;box-sizing: border-box;top: 0;bottom: 0;left: 50%;z-index: -1;}#sk-container-id-10 div.sk-parallel-item {display: flex;flex-direction: column;z-index: 1;position: relative;background-color: white;}#sk-container-id-10 div.sk-parallel-item:first-child::after {align-self: flex-end;width: 50%;}#sk-container-id-10 div.sk-parallel-item:last-child::after {align-self: flex-start;width: 50%;}#sk-container-id-10 div.sk-parallel-item:only-child::after {width: 0;}#sk-container-id-10 div.sk-dashed-wrapped {border: 1px dashed gray;margin: 0 0.4em 0.5em 0.4em;box-sizing: border-box;padding-bottom: 0.4em;background-color: white;}#sk-container-id-10 div.sk-label label {font-family: monospace;font-weight: bold;display: inline-block;line-height: 1.2em;}#sk-container-id-10 div.sk-label-container {text-align: center;}#sk-container-id-10 div.sk-container {/* jupyter's `normalize.less` sets `[hidden] { display: none; }` but bootstrap.min.css set `[hidden] { display: none !important; }` so we also need the `!important` here to be able to override the default hidden behavior on the sphinx rendered scikit-learn.org. See: https://github.com/scikit-learn/scikit-learn/issues/21755 */display: inline-block !important;position: relative;}#sk-container-id-10 div.sk-text-repr-fallback {display: none;}</style><div id=\"sk-container-id-10\" class=\"sk-top-container\"><div class=\"sk-text-repr-fallback\"><pre>AdaBoostClassifier()</pre><b>In a Jupyter environment, please rerun this cell to show the HTML representation or trust the notebook. <br />On GitHub, the HTML representation is unable to render, please try loading this page with nbviewer.org.</b></div><div class=\"sk-container\" hidden><div class=\"sk-item\"><div class=\"sk-estimator sk-toggleable\"><input class=\"sk-toggleable__control sk-hidden--visually\" id=\"sk-estimator-id-10\" type=\"checkbox\" checked><label for=\"sk-estimator-id-10\" class=\"sk-toggleable__label sk-toggleable__label-arrow\">AdaBoostClassifier</label><div class=\"sk-toggleable__content\"><pre>AdaBoostClassifier()</pre></div></div></div></div></div>"
      ],
      "text/plain": [
       "AdaBoostClassifier()"
      ]
     },
     "execution_count": 74,
     "metadata": {},
     "output_type": "execute_result"
    }
   ],
   "source": [
    "ada_s.fit(x_train,y_train)"
   ]
  },
  {
   "cell_type": "code",
   "execution_count": 75,
   "id": "8479aa84",
   "metadata": {},
   "outputs": [
    {
     "data": {
      "text/plain": [
       "0.9419976063118999"
      ]
     },
     "execution_count": 75,
     "metadata": {},
     "output_type": "execute_result"
    }
   ],
   "source": [
    "ada_s.score(x_test,y_test)"
   ]
  },
  {
   "cell_type": "markdown",
   "id": "5d485720",
   "metadata": {},
   "source": [
    "# K Fold Cross Validation"
   ]
  },
  {
   "cell_type": "code",
   "execution_count": 76,
   "id": "e7a85849",
   "metadata": {},
   "outputs": [],
   "source": [
    "fold = KFold(n_splits = 4)"
   ]
  },
  {
   "cell_type": "code",
   "execution_count": 77,
   "id": "6edd3832",
   "metadata": {},
   "outputs": [],
   "source": [
    "res_s = cross_val_score(xgb_s, x,y, cv = fold)"
   ]
  },
  {
   "cell_type": "code",
   "execution_count": 78,
   "id": "2614c952",
   "metadata": {},
   "outputs": [
    {
     "data": {
      "text/plain": [
       "array([0.97801525, 0.97905329, 0.98224868, 0.98282968])"
      ]
     },
     "execution_count": 78,
     "metadata": {},
     "output_type": "execute_result"
    }
   ],
   "source": [
    "res_s"
   ]
  },
  {
   "cell_type": "code",
   "execution_count": 79,
   "id": "39d4587d",
   "metadata": {},
   "outputs": [
    {
     "data": {
      "text/plain": [
       "0.9805367255647794"
      ]
     },
     "execution_count": 79,
     "metadata": {},
     "output_type": "execute_result"
    }
   ],
   "source": [
    "res_s.mean()"
   ]
  },
  {
   "cell_type": "code",
   "execution_count": 80,
   "id": "224d3648",
   "metadata": {},
   "outputs": [
    {
     "data": {
      "text/plain": [
       "0.9828296756501329"
      ]
     },
     "execution_count": 80,
     "metadata": {},
     "output_type": "execute_result"
    }
   ],
   "source": [
    "res_s.max()"
   ]
  },
  {
   "cell_type": "code",
   "execution_count": 81,
   "id": "3e33efd9",
   "metadata": {},
   "outputs": [],
   "source": [
    "D_res_s = cross_val_score(S_Clf, x,y, cv = fold)"
   ]
  },
  {
   "cell_type": "code",
   "execution_count": 82,
   "id": "3ee1f482",
   "metadata": {},
   "outputs": [
    {
     "data": {
      "text/plain": [
       "array([0.97807335, 0.97563318, 0.99280729, 0.99255552])"
      ]
     },
     "execution_count": 82,
     "metadata": {},
     "output_type": "execute_result"
    }
   ],
   "source": [
    "D_res_s"
   ]
  },
  {
   "cell_type": "code",
   "execution_count": 83,
   "id": "5e695b92",
   "metadata": {},
   "outputs": [
    {
     "data": {
      "text/plain": [
       "0.9847673371602762"
      ]
     },
     "execution_count": 83,
     "metadata": {},
     "output_type": "execute_result"
    }
   ],
   "source": [
    "D_res_s.mean()"
   ]
  },
  {
   "cell_type": "code",
   "execution_count": 84,
   "id": "1ba7eb04",
   "metadata": {},
   "outputs": [
    {
     "data": {
      "text/plain": [
       "0.9928072879951042"
      ]
     },
     "execution_count": 84,
     "metadata": {},
     "output_type": "execute_result"
    }
   ],
   "source": [
    "D_res_s.max()"
   ]
  },
  {
   "cell_type": "code",
   "execution_count": 85,
   "id": "347242f7",
   "metadata": {},
   "outputs": [],
   "source": [
    "D_cross_validate = cross_validate(S_Clf, x,y, cv = fold)"
   ]
  },
  {
   "cell_type": "code",
   "execution_count": 86,
   "id": "e7b8004b",
   "metadata": {},
   "outputs": [
    {
     "data": {
      "text/plain": [
       "{'fit_time': array([9.26721454, 9.87561488, 6.84299612, 7.55180836]),\n",
       " 'score_time': array([0.07480097, 0.07676697, 0.09574389, 0.10179281]),\n",
       " 'test_score': array([0.97852653, 0.97599727, 0.99274919, 0.99279179])}"
      ]
     },
     "execution_count": 86,
     "metadata": {},
     "output_type": "execute_result"
    }
   ],
   "source": [
    "D_cross_validate"
   ]
  },
  {
   "cell_type": "markdown",
   "id": "c6912fe9",
   "metadata": {},
   "source": [
    "# Stratified k fold cross Validation"
   ]
  },
  {
   "cell_type": "code",
   "execution_count": 87,
   "id": "0e087b3c",
   "metadata": {},
   "outputs": [],
   "source": [
    "st = StratifiedKFold(n_splits=5)"
   ]
  },
  {
   "cell_type": "code",
   "execution_count": 88,
   "id": "ac0478ea",
   "metadata": {},
   "outputs": [],
   "source": [
    "S_res_s = cross_val_score(xgb_s, x,y, cv = st)"
   ]
  },
  {
   "cell_type": "code",
   "execution_count": 89,
   "id": "18228be5",
   "metadata": {},
   "outputs": [
    {
     "data": {
      "text/plain": [
       "array([0.98362569, 0.98750381, 0.98818164, 0.98808481, 0.98840914])"
      ]
     },
     "execution_count": 89,
     "metadata": {},
     "output_type": "execute_result"
    }
   ],
   "source": [
    "S_res_s"
   ]
  },
  {
   "cell_type": "code",
   "execution_count": 90,
   "id": "d7154a30",
   "metadata": {},
   "outputs": [
    {
     "data": {
      "text/plain": [
       "0.9836256856925677"
      ]
     },
     "execution_count": 90,
     "metadata": {},
     "output_type": "execute_result"
    }
   ],
   "source": [
    "S_res_s.min()"
   ]
  },
  {
   "cell_type": "code",
   "execution_count": 91,
   "id": "2b85dcce",
   "metadata": {},
   "outputs": [
    {
     "data": {
      "text/plain": [
       "0.9884091371246526"
      ]
     },
     "execution_count": 91,
     "metadata": {},
     "output_type": "execute_result"
    }
   ],
   "source": [
    "S_res_s.max()"
   ]
  },
  {
   "cell_type": "code",
   "execution_count": 92,
   "id": "82b51453",
   "metadata": {},
   "outputs": [
    {
     "data": {
      "text/plain": [
       "0.9871610157779612"
      ]
     },
     "execution_count": 92,
     "metadata": {},
     "output_type": "execute_result"
    }
   ],
   "source": [
    "S_res_s.mean()"
   ]
  },
  {
   "cell_type": "markdown",
   "id": "7a04fdaf",
   "metadata": {},
   "source": [
    "# Leave One Out Cross Validation"
   ]
  },
  {
   "cell_type": "code",
   "execution_count": 93,
   "id": "69da0e41",
   "metadata": {},
   "outputs": [],
   "source": [
    "#le = LeaveOneOut()  "
   ]
  },
  {
   "cell_type": "code",
   "execution_count": 94,
   "id": "17d9f9aa",
   "metadata": {},
   "outputs": [],
   "source": [
    "#le1 = LeaveOneOut()  "
   ]
  },
  {
   "cell_type": "code",
   "execution_count": 95,
   "id": "2f9727dc",
   "metadata": {},
   "outputs": [],
   "source": [
    "#res = cross_val_score(N_Clf ,N_x , N_y,cv=le)"
   ]
  },
  {
   "cell_type": "code",
   "execution_count": 97,
   "id": "5540a860",
   "metadata": {},
   "outputs": [],
   "source": [
    "#res.max()"
   ]
  },
  {
   "cell_type": "code",
   "execution_count": null,
   "id": "ace7b82e",
   "metadata": {},
   "outputs": [],
   "source": [
    "#res.min()"
   ]
  },
  {
   "cell_type": "code",
   "execution_count": null,
   "id": "e80afd4a",
   "metadata": {},
   "outputs": [],
   "source": [
    "#res.mean()"
   ]
  },
  {
   "cell_type": "code",
   "execution_count": null,
   "id": "4bd19bb9",
   "metadata": {},
   "outputs": [],
   "source": [
    "#res1 =  cross_val_score(ada_s ,x,y,cv=le1)"
   ]
  },
  {
   "cell_type": "code",
   "execution_count": null,
   "id": "0583f266",
   "metadata": {},
   "outputs": [],
   "source": []
  }
 ],
 "metadata": {
  "kernelspec": {
   "display_name": "Python 3 (ipykernel)",
   "language": "python",
   "name": "python3"
  },
  "language_info": {
   "codemirror_mode": {
    "name": "ipython",
    "version": 3
   },
   "file_extension": ".py",
   "mimetype": "text/x-python",
   "name": "python",
   "nbconvert_exporter": "python",
   "pygments_lexer": "ipython3",
   "version": "3.9.12"
  }
 },
 "nbformat": 4,
 "nbformat_minor": 5
}
